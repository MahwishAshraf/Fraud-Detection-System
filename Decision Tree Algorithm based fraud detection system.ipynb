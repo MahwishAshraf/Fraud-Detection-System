{
 "cells": [
  {
   "cell_type": "code",
   "execution_count": 1,
   "id": "ed79ba53",
   "metadata": {},
   "outputs": [
    {
     "data": {
      "text/html": [
       "<div>\n",
       "<style scoped>\n",
       "    .dataframe tbody tr th:only-of-type {\n",
       "        vertical-align: middle;\n",
       "    }\n",
       "\n",
       "    .dataframe tbody tr th {\n",
       "        vertical-align: top;\n",
       "    }\n",
       "\n",
       "    .dataframe thead th {\n",
       "        text-align: right;\n",
       "    }\n",
       "</style>\n",
       "<table border=\"1\" class=\"dataframe\">\n",
       "  <thead>\n",
       "    <tr style=\"text-align: right;\">\n",
       "      <th></th>\n",
       "      <th>step</th>\n",
       "      <th>type</th>\n",
       "      <th>amount</th>\n",
       "      <th>nameOrig</th>\n",
       "      <th>oldbalanceOrg</th>\n",
       "      <th>newbalanceOrig</th>\n",
       "      <th>nameDest</th>\n",
       "      <th>oldbalanceDest</th>\n",
       "      <th>newbalanceDest</th>\n",
       "      <th>isFraud</th>\n",
       "      <th>isFlaggedFraud</th>\n",
       "    </tr>\n",
       "  </thead>\n",
       "  <tbody>\n",
       "    <tr>\n",
       "      <th>0</th>\n",
       "      <td>1</td>\n",
       "      <td>PAYMENT</td>\n",
       "      <td>9839.64</td>\n",
       "      <td>C1231006815</td>\n",
       "      <td>170136.00</td>\n",
       "      <td>160296.36</td>\n",
       "      <td>M1979787155</td>\n",
       "      <td>0.00</td>\n",
       "      <td>0.00</td>\n",
       "      <td>0</td>\n",
       "      <td>0</td>\n",
       "    </tr>\n",
       "    <tr>\n",
       "      <th>1</th>\n",
       "      <td>1</td>\n",
       "      <td>PAYMENT</td>\n",
       "      <td>1864.28</td>\n",
       "      <td>C1666544295</td>\n",
       "      <td>21249.00</td>\n",
       "      <td>19384.72</td>\n",
       "      <td>M2044282225</td>\n",
       "      <td>0.00</td>\n",
       "      <td>0.00</td>\n",
       "      <td>0</td>\n",
       "      <td>0</td>\n",
       "    </tr>\n",
       "    <tr>\n",
       "      <th>2</th>\n",
       "      <td>1</td>\n",
       "      <td>TRANSFER</td>\n",
       "      <td>181.00</td>\n",
       "      <td>C1305486145</td>\n",
       "      <td>181.00</td>\n",
       "      <td>0.00</td>\n",
       "      <td>C553264065</td>\n",
       "      <td>0.00</td>\n",
       "      <td>0.00</td>\n",
       "      <td>1</td>\n",
       "      <td>0</td>\n",
       "    </tr>\n",
       "    <tr>\n",
       "      <th>3</th>\n",
       "      <td>1</td>\n",
       "      <td>CASH_OUT</td>\n",
       "      <td>181.00</td>\n",
       "      <td>C840083671</td>\n",
       "      <td>181.00</td>\n",
       "      <td>0.00</td>\n",
       "      <td>C38997010</td>\n",
       "      <td>21182.00</td>\n",
       "      <td>0.00</td>\n",
       "      <td>1</td>\n",
       "      <td>0</td>\n",
       "    </tr>\n",
       "    <tr>\n",
       "      <th>4</th>\n",
       "      <td>1</td>\n",
       "      <td>PAYMENT</td>\n",
       "      <td>11668.14</td>\n",
       "      <td>C2048537720</td>\n",
       "      <td>41554.00</td>\n",
       "      <td>29885.86</td>\n",
       "      <td>M1230701703</td>\n",
       "      <td>0.00</td>\n",
       "      <td>0.00</td>\n",
       "      <td>0</td>\n",
       "      <td>0</td>\n",
       "    </tr>\n",
       "    <tr>\n",
       "      <th>...</th>\n",
       "      <td>...</td>\n",
       "      <td>...</td>\n",
       "      <td>...</td>\n",
       "      <td>...</td>\n",
       "      <td>...</td>\n",
       "      <td>...</td>\n",
       "      <td>...</td>\n",
       "      <td>...</td>\n",
       "      <td>...</td>\n",
       "      <td>...</td>\n",
       "      <td>...</td>\n",
       "    </tr>\n",
       "    <tr>\n",
       "      <th>6362615</th>\n",
       "      <td>743</td>\n",
       "      <td>CASH_OUT</td>\n",
       "      <td>339682.13</td>\n",
       "      <td>C786484425</td>\n",
       "      <td>339682.13</td>\n",
       "      <td>0.00</td>\n",
       "      <td>C776919290</td>\n",
       "      <td>0.00</td>\n",
       "      <td>339682.13</td>\n",
       "      <td>1</td>\n",
       "      <td>0</td>\n",
       "    </tr>\n",
       "    <tr>\n",
       "      <th>6362616</th>\n",
       "      <td>743</td>\n",
       "      <td>TRANSFER</td>\n",
       "      <td>6311409.28</td>\n",
       "      <td>C1529008245</td>\n",
       "      <td>6311409.28</td>\n",
       "      <td>0.00</td>\n",
       "      <td>C1881841831</td>\n",
       "      <td>0.00</td>\n",
       "      <td>0.00</td>\n",
       "      <td>1</td>\n",
       "      <td>0</td>\n",
       "    </tr>\n",
       "    <tr>\n",
       "      <th>6362617</th>\n",
       "      <td>743</td>\n",
       "      <td>CASH_OUT</td>\n",
       "      <td>6311409.28</td>\n",
       "      <td>C1162922333</td>\n",
       "      <td>6311409.28</td>\n",
       "      <td>0.00</td>\n",
       "      <td>C1365125890</td>\n",
       "      <td>68488.84</td>\n",
       "      <td>6379898.11</td>\n",
       "      <td>1</td>\n",
       "      <td>0</td>\n",
       "    </tr>\n",
       "    <tr>\n",
       "      <th>6362618</th>\n",
       "      <td>743</td>\n",
       "      <td>TRANSFER</td>\n",
       "      <td>850002.52</td>\n",
       "      <td>C1685995037</td>\n",
       "      <td>850002.52</td>\n",
       "      <td>0.00</td>\n",
       "      <td>C2080388513</td>\n",
       "      <td>0.00</td>\n",
       "      <td>0.00</td>\n",
       "      <td>1</td>\n",
       "      <td>0</td>\n",
       "    </tr>\n",
       "    <tr>\n",
       "      <th>6362619</th>\n",
       "      <td>743</td>\n",
       "      <td>CASH_OUT</td>\n",
       "      <td>850002.52</td>\n",
       "      <td>C1280323807</td>\n",
       "      <td>850002.52</td>\n",
       "      <td>0.00</td>\n",
       "      <td>C873221189</td>\n",
       "      <td>6510099.11</td>\n",
       "      <td>7360101.63</td>\n",
       "      <td>1</td>\n",
       "      <td>0</td>\n",
       "    </tr>\n",
       "  </tbody>\n",
       "</table>\n",
       "<p>6362620 rows × 11 columns</p>\n",
       "</div>"
      ],
      "text/plain": [
       "         step      type      amount     nameOrig  oldbalanceOrg  \\\n",
       "0           1   PAYMENT     9839.64  C1231006815      170136.00   \n",
       "1           1   PAYMENT     1864.28  C1666544295       21249.00   \n",
       "2           1  TRANSFER      181.00  C1305486145         181.00   \n",
       "3           1  CASH_OUT      181.00   C840083671         181.00   \n",
       "4           1   PAYMENT    11668.14  C2048537720       41554.00   \n",
       "...       ...       ...         ...          ...            ...   \n",
       "6362615   743  CASH_OUT   339682.13   C786484425      339682.13   \n",
       "6362616   743  TRANSFER  6311409.28  C1529008245     6311409.28   \n",
       "6362617   743  CASH_OUT  6311409.28  C1162922333     6311409.28   \n",
       "6362618   743  TRANSFER   850002.52  C1685995037      850002.52   \n",
       "6362619   743  CASH_OUT   850002.52  C1280323807      850002.52   \n",
       "\n",
       "         newbalanceOrig     nameDest  oldbalanceDest  newbalanceDest  isFraud  \\\n",
       "0             160296.36  M1979787155            0.00            0.00        0   \n",
       "1              19384.72  M2044282225            0.00            0.00        0   \n",
       "2                  0.00   C553264065            0.00            0.00        1   \n",
       "3                  0.00    C38997010        21182.00            0.00        1   \n",
       "4              29885.86  M1230701703            0.00            0.00        0   \n",
       "...                 ...          ...             ...             ...      ...   \n",
       "6362615            0.00   C776919290            0.00       339682.13        1   \n",
       "6362616            0.00  C1881841831            0.00            0.00        1   \n",
       "6362617            0.00  C1365125890        68488.84      6379898.11        1   \n",
       "6362618            0.00  C2080388513            0.00            0.00        1   \n",
       "6362619            0.00   C873221189      6510099.11      7360101.63        1   \n",
       "\n",
       "         isFlaggedFraud  \n",
       "0                     0  \n",
       "1                     0  \n",
       "2                     0  \n",
       "3                     0  \n",
       "4                     0  \n",
       "...                 ...  \n",
       "6362615               0  \n",
       "6362616               0  \n",
       "6362617               0  \n",
       "6362618               0  \n",
       "6362619               0  \n",
       "\n",
       "[6362620 rows x 11 columns]"
      ]
     },
     "execution_count": 1,
     "metadata": {},
     "output_type": "execute_result"
    }
   ],
   "source": [
    "import pandas as pd\n",
    "\n",
    "file_path = 'Fraud.csv'\n",
    "df = pd.read_csv(file_path)\n",
    "df"
   ]
  },
  {
   "cell_type": "code",
   "execution_count": 2,
   "id": "b4e31d24",
   "metadata": {},
   "outputs": [
    {
     "data": {
      "image/png": "[encoded data removed]",
      "text/plain": [
       "<Figure size 1080x576 with 1 Axes>"
      ]
     },
     "metadata": {
      "needs_background": "light"
     },
     "output_type": "display_data"
    }
   ],
   "source": [
    "import matplotlib.pyplot as plt\n",
    "import seaborn as sns\n",
    "import numpy as np \n",
    "\n",
    "plt.figure(figsize=(15,8))\n",
    "ax=sns.histplot(x='type',data=df[df.isFraud == 1], stat='percent',multiple='dodge',common_norm=False,bins=25, color='b')\n",
    "ax=sns.histplot(x='type',data=df[df.isFraud == 0], stat='percent',multiple='dodge',common_norm=False,bins=25, color='r')\n",
    "ax.set_ylabel('Percentage in Each Type')\n",
    "ax.set_xlabel('Types of transactions')\n",
    "plt.legend(labels=['Fraud', 'Not Fraud'])\n",
    "plt.show()"
   ]
  },
  {
   "cell_type": "code",
   "execution_count": 3,
   "id": "f8a0ae9b",
   "metadata": {},
   "outputs": [
    {
     "data": {
      "text/plain": [
       "<matplotlib.legend.Legend at 0x2ca275214c0>"
      ]
     },
     "execution_count": 3,
     "metadata": {},
     "output_type": "execute_result"
    },
    {
     "data": {
      "image/png": "[encoded data removed]",
      "text/plain": [
       "<Figure size 1080x576 with 1 Axes>"
      ]
     },
     "metadata": {
      "needs_background": "light"
     },
     "output_type": "display_data"
    }
   ],
   "source": [
    "#amount vs fraud\n",
    "\n",
    "plt.figure(figsize=(15,8))\n",
    "ax=sns.histplot(x='amount',data=df[df.amount<=13000000],hue='isFraud',stat='percent',multiple='dodge',common_norm=False,bins=25)\n",
    "ax.set_ylabel('Percentage in Each Type')\n",
    "ax.set_xlabel('Transaction Amount')\n",
    "plt.legend(title='Type', labels=['Fraud', 'Not Fraud'])"
   ]
  },
  {
   "cell_type": "code",
   "execution_count": 4,
   "id": "017f17f5",
   "metadata": {
    "scrolled": false
   },
   "outputs": [
    {
     "data": {
      "text/plain": [
       "<matplotlib.legend.Legend at 0x2ca2f7ef5b0>"
      ]
     },
     "execution_count": 4,
     "metadata": {},
     "output_type": "execute_result"
    },
    {
     "data": {
      "image/png": "[encoded data removed]",
      "text/plain": [
       "<Figure size 1080x576 with 1 Axes>"
      ]
     },
     "metadata": {
      "needs_background": "light"
     },
     "output_type": "display_data"
    }
   ],
   "source": [
    "#oldbalanceOrg vs fraud\n",
    "\n",
    "plt.figure(figsize=(15,8))\n",
    "ax=sns.histplot(x='oldbalanceOrg',data=df[df.oldbalanceOrg<=13000000],hue='isFraud',stat='percent',multiple='dodge',common_norm=False,bins=25)\n",
    "ax.set_ylabel('Percentage in Each Type')\n",
    "ax.set_xlabel('oldbalanceOrg')\n",
    "plt.legend(title='Type', labels=['Fraud', 'Not Fraud'])"
   ]
  },
  {
   "cell_type": "code",
   "execution_count": 5,
   "id": "6b3488e3",
   "metadata": {},
   "outputs": [
    {
     "data": {
      "text/plain": [
       "<matplotlib.legend.Legend at 0x2ca2754f6a0>"
      ]
     },
     "execution_count": 5,
     "metadata": {},
     "output_type": "execute_result"
    },
    {
     "data": {
      "image/png": "[encoded data removed]",
      "text/plain": [
       "<Figure size 1080x576 with 1 Axes>"
      ]
     },
     "metadata": {
      "needs_background": "light"
     },
     "output_type": "display_data"
    }
   ],
   "source": [
    "#newbalanceOrig vs fraud\n",
    "\n",
    "plt.figure(figsize=(15,8))\n",
    "ax=sns.histplot(x='newbalanceOrig',data=df[df.newbalanceOrig<=13000000],hue='isFraud',stat='percent',multiple='dodge',common_norm=False,bins=25)\n",
    "ax.set_ylabel('Percentage in Each Type')\n",
    "ax.set_xlabel('newbalanceOrig')\n",
    "plt.legend(title='Type', labels=['Fraud', 'Not Fraud'])"
   ]
  },
  {
   "cell_type": "code",
   "execution_count": 6,
   "id": "6fa7a789",
   "metadata": {},
   "outputs": [
    {
     "data": {
      "text/plain": [
       "<matplotlib.legend.Legend at 0x2ca2f8aacd0>"
      ]
     },
     "execution_count": 6,
     "metadata": {},
     "output_type": "execute_result"
    },
    {
     "data": {
      "image/png": "[encoded data removed]",
      "text/plain": [
       "<Figure size 1080x576 with 1 Axes>"
      ]
     },
     "metadata": {
      "needs_background": "light"
     },
     "output_type": "display_data"
    }
   ],
   "source": [
    "#oldbalanceDest vs fraud\n",
    "\n",
    "plt.figure(figsize=(15,8))\n",
    "ax=sns.histplot(x='oldbalanceDest',data=df[df.oldbalanceDest<=13000000],hue='isFraud',stat='percent',multiple='dodge',common_norm=False,bins=25)\n",
    "ax.set_ylabel('Percentage in Each Type')\n",
    "ax.set_xlabel('oldbalanceDest')\n",
    "plt.legend(title='Type', labels=['Fraud', 'Not Fraud'])"
   ]
  },
  {
   "cell_type": "code",
   "execution_count": 7,
   "id": "761a8c5b",
   "metadata": {},
   "outputs": [
    {
     "data": {
      "text/plain": [
       "<matplotlib.legend.Legend at 0x2ca2f982940>"
      ]
     },
     "execution_count": 7,
     "metadata": {},
     "output_type": "execute_result"
    },
    {
     "data": {
      "image/png": "[encoded data removed]",
      "text/plain": [
       "<Figure size 1080x576 with 1 Axes>"
      ]
     },
     "metadata": {
      "needs_background": "light"
     },
     "output_type": "display_data"
    }
   ],
   "source": [
    "#newbalanceDest vs fraud\n",
    "\n",
    "plt.figure(figsize=(15,8))\n",
    "ax=sns.histplot(x='newbalanceDest',data=df[df.newbalanceDest<=13000000],hue='isFraud',stat='percent',multiple='dodge',common_norm=False,bins=25)\n",
    "ax.set_ylabel('Percentage in Each Type')\n",
    "ax.set_xlabel('newbalanceDest')\n",
    "plt.legend(title='Type', labels=['Fraud', 'Not Fraud'])"
   ]
  },
  {
   "cell_type": "code",
   "execution_count": 8,
   "id": "95b15b93",
   "metadata": {},
   "outputs": [
    {
     "data": {
      "text/plain": [
       "<matplotlib.legend.Legend at 0x2ca32d09b80>"
      ]
     },
     "execution_count": 8,
     "metadata": {},
     "output_type": "execute_result"
    },
    {
     "data": {
      "image/png": "[encoded data removed]",
      "text/plain": [
       "<Figure size 1080x576 with 1 Axes>"
      ]
     },
     "metadata": {
      "needs_background": "light"
     },
     "output_type": "display_data"
    }
   ],
   "source": [
    "#step vs fraud\n",
    "\n",
    "plt.figure(figsize=(15,8))\n",
    "ax=sns.histplot(x='step',data=df[df.step<=800],hue='isFraud',stat='percent',multiple='dodge',common_norm=False,bins=25)\n",
    "ax.set_ylabel('Percentage in Each Type')\n",
    "ax.set_xlabel('step')\n",
    "plt.legend(title='Type', labels=['Fraud', 'Not Fraud'])"
   ]
  },
  {
   "cell_type": "code",
   "execution_count": 9,
   "id": "b5e82207",
   "metadata": {},
   "outputs": [
    {
     "data": {
      "text/html": [
       "<div>\n",
       "<style scoped>\n",
       "    .dataframe tbody tr th:only-of-type {\n",
       "        vertical-align: middle;\n",
       "    }\n",
       "\n",
       "    .dataframe tbody tr th {\n",
       "        vertical-align: top;\n",
       "    }\n",
       "\n",
       "    .dataframe thead th {\n",
       "        text-align: right;\n",
       "    }\n",
       "</style>\n",
       "<table border=\"1\" class=\"dataframe\">\n",
       "  <thead>\n",
       "    <tr style=\"text-align: right;\">\n",
       "      <th></th>\n",
       "      <th>type</th>\n",
       "      <th>amount</th>\n",
       "      <th>oldbalanceOrg</th>\n",
       "      <th>newbalanceOrig</th>\n",
       "      <th>oldbalanceDest</th>\n",
       "      <th>newbalanceDest</th>\n",
       "      <th>isFraud</th>\n",
       "    </tr>\n",
       "  </thead>\n",
       "  <tbody>\n",
       "    <tr>\n",
       "      <th>1</th>\n",
       "      <td>PAYMENT</td>\n",
       "      <td>1864.28</td>\n",
       "      <td>21249.00</td>\n",
       "      <td>19384.72</td>\n",
       "      <td>0.0</td>\n",
       "      <td>0.00</td>\n",
       "      <td>0</td>\n",
       "    </tr>\n",
       "    <tr>\n",
       "      <th>2</th>\n",
       "      <td>TRANSFER</td>\n",
       "      <td>181.00</td>\n",
       "      <td>181.00</td>\n",
       "      <td>0.00</td>\n",
       "      <td>0.0</td>\n",
       "      <td>0.00</td>\n",
       "      <td>1</td>\n",
       "    </tr>\n",
       "    <tr>\n",
       "      <th>3</th>\n",
       "      <td>CASH_OUT</td>\n",
       "      <td>181.00</td>\n",
       "      <td>181.00</td>\n",
       "      <td>0.00</td>\n",
       "      <td>21182.0</td>\n",
       "      <td>0.00</td>\n",
       "      <td>1</td>\n",
       "    </tr>\n",
       "    <tr>\n",
       "      <th>4</th>\n",
       "      <td>PAYMENT</td>\n",
       "      <td>11668.14</td>\n",
       "      <td>41554.00</td>\n",
       "      <td>29885.86</td>\n",
       "      <td>0.0</td>\n",
       "      <td>0.00</td>\n",
       "      <td>0</td>\n",
       "    </tr>\n",
       "    <tr>\n",
       "      <th>5</th>\n",
       "      <td>PAYMENT</td>\n",
       "      <td>7817.71</td>\n",
       "      <td>53860.00</td>\n",
       "      <td>46042.29</td>\n",
       "      <td>0.0</td>\n",
       "      <td>0.00</td>\n",
       "      <td>0</td>\n",
       "    </tr>\n",
       "    <tr>\n",
       "      <th>6</th>\n",
       "      <td>PAYMENT</td>\n",
       "      <td>7107.77</td>\n",
       "      <td>183195.00</td>\n",
       "      <td>176087.23</td>\n",
       "      <td>0.0</td>\n",
       "      <td>0.00</td>\n",
       "      <td>0</td>\n",
       "    </tr>\n",
       "    <tr>\n",
       "      <th>7</th>\n",
       "      <td>PAYMENT</td>\n",
       "      <td>7861.64</td>\n",
       "      <td>176087.23</td>\n",
       "      <td>168225.59</td>\n",
       "      <td>0.0</td>\n",
       "      <td>0.00</td>\n",
       "      <td>0</td>\n",
       "    </tr>\n",
       "    <tr>\n",
       "      <th>8</th>\n",
       "      <td>PAYMENT</td>\n",
       "      <td>4024.36</td>\n",
       "      <td>2671.00</td>\n",
       "      <td>0.00</td>\n",
       "      <td>0.0</td>\n",
       "      <td>0.00</td>\n",
       "      <td>0</td>\n",
       "    </tr>\n",
       "    <tr>\n",
       "      <th>9</th>\n",
       "      <td>DEBIT</td>\n",
       "      <td>5337.77</td>\n",
       "      <td>41720.00</td>\n",
       "      <td>36382.23</td>\n",
       "      <td>41898.0</td>\n",
       "      <td>40348.79</td>\n",
       "      <td>0</td>\n",
       "    </tr>\n",
       "    <tr>\n",
       "      <th>10</th>\n",
       "      <td>DEBIT</td>\n",
       "      <td>9644.94</td>\n",
       "      <td>4465.00</td>\n",
       "      <td>0.00</td>\n",
       "      <td>10845.0</td>\n",
       "      <td>157982.12</td>\n",
       "      <td>0</td>\n",
       "    </tr>\n",
       "    <tr>\n",
       "      <th>11</th>\n",
       "      <td>PAYMENT</td>\n",
       "      <td>3099.97</td>\n",
       "      <td>20771.00</td>\n",
       "      <td>17671.03</td>\n",
       "      <td>0.0</td>\n",
       "      <td>0.00</td>\n",
       "      <td>0</td>\n",
       "    </tr>\n",
       "    <tr>\n",
       "      <th>12</th>\n",
       "      <td>PAYMENT</td>\n",
       "      <td>2560.74</td>\n",
       "      <td>5070.00</td>\n",
       "      <td>2509.26</td>\n",
       "      <td>0.0</td>\n",
       "      <td>0.00</td>\n",
       "      <td>0</td>\n",
       "    </tr>\n",
       "    <tr>\n",
       "      <th>13</th>\n",
       "      <td>PAYMENT</td>\n",
       "      <td>11633.76</td>\n",
       "      <td>10127.00</td>\n",
       "      <td>0.00</td>\n",
       "      <td>0.0</td>\n",
       "      <td>0.00</td>\n",
       "      <td>0</td>\n",
       "    </tr>\n",
       "    <tr>\n",
       "      <th>14</th>\n",
       "      <td>PAYMENT</td>\n",
       "      <td>4098.78</td>\n",
       "      <td>503264.00</td>\n",
       "      <td>499165.22</td>\n",
       "      <td>0.0</td>\n",
       "      <td>0.00</td>\n",
       "      <td>0</td>\n",
       "    </tr>\n",
       "    <tr>\n",
       "      <th>15</th>\n",
       "      <td>CASH_OUT</td>\n",
       "      <td>229133.94</td>\n",
       "      <td>15325.00</td>\n",
       "      <td>0.00</td>\n",
       "      <td>5083.0</td>\n",
       "      <td>51513.44</td>\n",
       "      <td>0</td>\n",
       "    </tr>\n",
       "    <tr>\n",
       "      <th>16</th>\n",
       "      <td>PAYMENT</td>\n",
       "      <td>1563.82</td>\n",
       "      <td>450.00</td>\n",
       "      <td>0.00</td>\n",
       "      <td>0.0</td>\n",
       "      <td>0.00</td>\n",
       "      <td>0</td>\n",
       "    </tr>\n",
       "    <tr>\n",
       "      <th>17</th>\n",
       "      <td>PAYMENT</td>\n",
       "      <td>1157.86</td>\n",
       "      <td>21156.00</td>\n",
       "      <td>19998.14</td>\n",
       "      <td>0.0</td>\n",
       "      <td>0.00</td>\n",
       "      <td>0</td>\n",
       "    </tr>\n",
       "    <tr>\n",
       "      <th>18</th>\n",
       "      <td>PAYMENT</td>\n",
       "      <td>671.64</td>\n",
       "      <td>15123.00</td>\n",
       "      <td>14451.36</td>\n",
       "      <td>0.0</td>\n",
       "      <td>0.00</td>\n",
       "      <td>0</td>\n",
       "    </tr>\n",
       "    <tr>\n",
       "      <th>19</th>\n",
       "      <td>TRANSFER</td>\n",
       "      <td>215310.30</td>\n",
       "      <td>705.00</td>\n",
       "      <td>0.00</td>\n",
       "      <td>22425.0</td>\n",
       "      <td>0.00</td>\n",
       "      <td>0</td>\n",
       "    </tr>\n",
       "  </tbody>\n",
       "</table>\n",
       "</div>"
      ],
      "text/plain": [
       "        type     amount  oldbalanceOrg  newbalanceOrig  oldbalanceDest  \\\n",
       "1    PAYMENT    1864.28       21249.00        19384.72             0.0   \n",
       "2   TRANSFER     181.00         181.00            0.00             0.0   \n",
       "3   CASH_OUT     181.00         181.00            0.00         21182.0   \n",
       "4    PAYMENT   11668.14       41554.00        29885.86             0.0   \n",
       "5    PAYMENT    7817.71       53860.00        46042.29             0.0   \n",
       "6    PAYMENT    7107.77      183195.00       176087.23             0.0   \n",
       "7    PAYMENT    7861.64      176087.23       168225.59             0.0   \n",
       "8    PAYMENT    4024.36        2671.00            0.00             0.0   \n",
       "9      DEBIT    5337.77       41720.00        36382.23         41898.0   \n",
       "10     DEBIT    9644.94        4465.00            0.00         10845.0   \n",
       "11   PAYMENT    3099.97       20771.00        17671.03             0.0   \n",
       "12   PAYMENT    2560.74        5070.00         2509.26             0.0   \n",
       "13   PAYMENT   11633.76       10127.00            0.00             0.0   \n",
       "14   PAYMENT    4098.78      503264.00       499165.22             0.0   \n",
       "15  CASH_OUT  229133.94       15325.00            0.00          5083.0   \n",
       "16   PAYMENT    1563.82         450.00            0.00             0.0   \n",
       "17   PAYMENT    1157.86       21156.00        19998.14             0.0   \n",
       "18   PAYMENT     671.64       15123.00        14451.36             0.0   \n",
       "19  TRANSFER  215310.30         705.00            0.00         22425.0   \n",
       "\n",
       "    newbalanceDest  isFraud  \n",
       "1             0.00        0  \n",
       "2             0.00        1  \n",
       "3             0.00        1  \n",
       "4             0.00        0  \n",
       "5             0.00        0  \n",
       "6             0.00        0  \n",
       "7             0.00        0  \n",
       "8             0.00        0  \n",
       "9         40348.79        0  \n",
       "10       157982.12        0  \n",
       "11            0.00        0  \n",
       "12            0.00        0  \n",
       "13            0.00        0  \n",
       "14            0.00        0  \n",
       "15        51513.44        0  \n",
       "16            0.00        0  \n",
       "17            0.00        0  \n",
       "18            0.00        0  \n",
       "19            0.00        0  "
      ]
     },
     "execution_count": 9,
     "metadata": {},
     "output_type": "execute_result"
    }
   ],
   "source": [
    "df.drop(['step', 'nameOrig', 'nameDest', 'isFlaggedFraud'], axis=1, inplace=True) #dropping the data type [object] except 'type'\n",
    "df[1:20]"
   ]
  },
  {
   "cell_type": "code",
   "execution_count": 10,
   "id": "6e0e1dc7",
   "metadata": {
    "scrolled": true
   },
   "outputs": [
    {
     "data": {
      "text/html": [
       "<div>\n",
       "<style scoped>\n",
       "    .dataframe tbody tr th:only-of-type {\n",
       "        vertical-align: middle;\n",
       "    }\n",
       "\n",
       "    .dataframe tbody tr th {\n",
       "        vertical-align: top;\n",
       "    }\n",
       "\n",
       "    .dataframe thead th {\n",
       "        text-align: right;\n",
       "    }\n",
       "</style>\n",
       "<table border=\"1\" class=\"dataframe\">\n",
       "  <thead>\n",
       "    <tr style=\"text-align: right;\">\n",
       "      <th></th>\n",
       "      <th>type</th>\n",
       "      <th>amount</th>\n",
       "      <th>oldbalanceOrg</th>\n",
       "      <th>newbalanceOrig</th>\n",
       "      <th>oldbalanceDest</th>\n",
       "      <th>newbalanceDest</th>\n",
       "      <th>isFraud</th>\n",
       "    </tr>\n",
       "  </thead>\n",
       "  <tbody>\n",
       "    <tr>\n",
       "      <th>0</th>\n",
       "      <td>3</td>\n",
       "      <td>9839.64</td>\n",
       "      <td>170136.00</td>\n",
       "      <td>160296.36</td>\n",
       "      <td>0.00</td>\n",
       "      <td>0.00</td>\n",
       "      <td>0</td>\n",
       "    </tr>\n",
       "    <tr>\n",
       "      <th>1</th>\n",
       "      <td>3</td>\n",
       "      <td>1864.28</td>\n",
       "      <td>21249.00</td>\n",
       "      <td>19384.72</td>\n",
       "      <td>0.00</td>\n",
       "      <td>0.00</td>\n",
       "      <td>0</td>\n",
       "    </tr>\n",
       "    <tr>\n",
       "      <th>2</th>\n",
       "      <td>4</td>\n",
       "      <td>181.00</td>\n",
       "      <td>181.00</td>\n",
       "      <td>0.00</td>\n",
       "      <td>0.00</td>\n",
       "      <td>0.00</td>\n",
       "      <td>1</td>\n",
       "    </tr>\n",
       "    <tr>\n",
       "      <th>3</th>\n",
       "      <td>1</td>\n",
       "      <td>181.00</td>\n",
       "      <td>181.00</td>\n",
       "      <td>0.00</td>\n",
       "      <td>21182.00</td>\n",
       "      <td>0.00</td>\n",
       "      <td>1</td>\n",
       "    </tr>\n",
       "    <tr>\n",
       "      <th>4</th>\n",
       "      <td>3</td>\n",
       "      <td>11668.14</td>\n",
       "      <td>41554.00</td>\n",
       "      <td>29885.86</td>\n",
       "      <td>0.00</td>\n",
       "      <td>0.00</td>\n",
       "      <td>0</td>\n",
       "    </tr>\n",
       "    <tr>\n",
       "      <th>...</th>\n",
       "      <td>...</td>\n",
       "      <td>...</td>\n",
       "      <td>...</td>\n",
       "      <td>...</td>\n",
       "      <td>...</td>\n",
       "      <td>...</td>\n",
       "      <td>...</td>\n",
       "    </tr>\n",
       "    <tr>\n",
       "      <th>6362615</th>\n",
       "      <td>1</td>\n",
       "      <td>339682.13</td>\n",
       "      <td>339682.13</td>\n",
       "      <td>0.00</td>\n",
       "      <td>0.00</td>\n",
       "      <td>339682.13</td>\n",
       "      <td>1</td>\n",
       "    </tr>\n",
       "    <tr>\n",
       "      <th>6362616</th>\n",
       "      <td>4</td>\n",
       "      <td>6311409.28</td>\n",
       "      <td>6311409.28</td>\n",
       "      <td>0.00</td>\n",
       "      <td>0.00</td>\n",
       "      <td>0.00</td>\n",
       "      <td>1</td>\n",
       "    </tr>\n",
       "    <tr>\n",
       "      <th>6362617</th>\n",
       "      <td>1</td>\n",
       "      <td>6311409.28</td>\n",
       "      <td>6311409.28</td>\n",
       "      <td>0.00</td>\n",
       "      <td>68488.84</td>\n",
       "      <td>6379898.11</td>\n",
       "      <td>1</td>\n",
       "    </tr>\n",
       "    <tr>\n",
       "      <th>6362618</th>\n",
       "      <td>4</td>\n",
       "      <td>850002.52</td>\n",
       "      <td>850002.52</td>\n",
       "      <td>0.00</td>\n",
       "      <td>0.00</td>\n",
       "      <td>0.00</td>\n",
       "      <td>1</td>\n",
       "    </tr>\n",
       "    <tr>\n",
       "      <th>6362619</th>\n",
       "      <td>1</td>\n",
       "      <td>850002.52</td>\n",
       "      <td>850002.52</td>\n",
       "      <td>0.00</td>\n",
       "      <td>6510099.11</td>\n",
       "      <td>7360101.63</td>\n",
       "      <td>1</td>\n",
       "    </tr>\n",
       "  </tbody>\n",
       "</table>\n",
       "<p>6362620 rows × 7 columns</p>\n",
       "</div>"
      ],
      "text/plain": [
       "         type      amount  oldbalanceOrg  newbalanceOrig  oldbalanceDest  \\\n",
       "0           3     9839.64      170136.00       160296.36            0.00   \n",
       "1           3     1864.28       21249.00        19384.72            0.00   \n",
       "2           4      181.00         181.00            0.00            0.00   \n",
       "3           1      181.00         181.00            0.00        21182.00   \n",
       "4           3    11668.14       41554.00        29885.86            0.00   \n",
       "...       ...         ...            ...             ...             ...   \n",
       "6362615     1   339682.13      339682.13            0.00            0.00   \n",
       "6362616     4  6311409.28     6311409.28            0.00            0.00   \n",
       "6362617     1  6311409.28     6311409.28            0.00        68488.84   \n",
       "6362618     4   850002.52      850002.52            0.00            0.00   \n",
       "6362619     1   850002.52      850002.52            0.00      6510099.11   \n",
       "\n",
       "         newbalanceDest  isFraud  \n",
       "0                  0.00        0  \n",
       "1                  0.00        0  \n",
       "2                  0.00        1  \n",
       "3                  0.00        1  \n",
       "4                  0.00        0  \n",
       "...                 ...      ...  \n",
       "6362615       339682.13        1  \n",
       "6362616            0.00        1  \n",
       "6362617      6379898.11        1  \n",
       "6362618            0.00        1  \n",
       "6362619      7360101.63        1  \n",
       "\n",
       "[6362620 rows x 7 columns]"
      ]
     },
     "execution_count": 10,
     "metadata": {},
     "output_type": "execute_result"
    }
   ],
   "source": [
    "from sklearn.preprocessing import LabelEncoder \n",
    "\n",
    "le = LabelEncoder()\n",
    "df[\"type\"] = le.fit_transform(df[\"type\"]) \n",
    "df"
   ]
  },
  {
   "cell_type": "code",
   "execution_count": 178,
   "id": "3088511c",
   "metadata": {},
   "outputs": [
    {
     "data": {
      "text/plain": [
       "0          3\n",
       "1          3\n",
       "2          4\n",
       "3          1\n",
       "4          3\n",
       "          ..\n",
       "6362615    1\n",
       "6362616    4\n",
       "6362617    1\n",
       "6362618    4\n",
       "6362619    1\n",
       "Name: type, Length: 6362620, dtype: int32"
      ]
     },
     "execution_count": 178,
     "metadata": {},
     "output_type": "execute_result"
    }
   ],
   "source": [
    "df[\"type\"]"
   ]
  },
  {
   "cell_type": "code",
   "execution_count": 12,
   "id": "10d72ac2",
   "metadata": {},
   "outputs": [
    {
     "data": {
      "text/html": [
       "<div>\n",
       "<style scoped>\n",
       "    .dataframe tbody tr th:only-of-type {\n",
       "        vertical-align: middle;\n",
       "    }\n",
       "\n",
       "    .dataframe tbody tr th {\n",
       "        vertical-align: top;\n",
       "    }\n",
       "\n",
       "    .dataframe thead th {\n",
       "        text-align: right;\n",
       "    }\n",
       "</style>\n",
       "<table border=\"1\" class=\"dataframe\">\n",
       "  <thead>\n",
       "    <tr style=\"text-align: right;\">\n",
       "      <th></th>\n",
       "      <th>type</th>\n",
       "      <th>amount</th>\n",
       "      <th>oldbalanceOrg</th>\n",
       "      <th>newbalanceOrig</th>\n",
       "      <th>oldbalanceDest</th>\n",
       "      <th>newbalanceDest</th>\n",
       "      <th>isFraud</th>\n",
       "    </tr>\n",
       "  </thead>\n",
       "  <tbody>\n",
       "    <tr>\n",
       "      <th>0</th>\n",
       "      <td>3</td>\n",
       "      <td>9839.64</td>\n",
       "      <td>170136.0</td>\n",
       "      <td>160296.36</td>\n",
       "      <td>0.0</td>\n",
       "      <td>0.0</td>\n",
       "      <td>0</td>\n",
       "    </tr>\n",
       "    <tr>\n",
       "      <th>1</th>\n",
       "      <td>3</td>\n",
       "      <td>1864.28</td>\n",
       "      <td>21249.0</td>\n",
       "      <td>19384.72</td>\n",
       "      <td>0.0</td>\n",
       "      <td>0.0</td>\n",
       "      <td>0</td>\n",
       "    </tr>\n",
       "    <tr>\n",
       "      <th>2</th>\n",
       "      <td>4</td>\n",
       "      <td>181.00</td>\n",
       "      <td>181.0</td>\n",
       "      <td>0.00</td>\n",
       "      <td>0.0</td>\n",
       "      <td>0.0</td>\n",
       "      <td>1</td>\n",
       "    </tr>\n",
       "    <tr>\n",
       "      <th>3</th>\n",
       "      <td>1</td>\n",
       "      <td>181.00</td>\n",
       "      <td>181.0</td>\n",
       "      <td>0.00</td>\n",
       "      <td>21182.0</td>\n",
       "      <td>0.0</td>\n",
       "      <td>1</td>\n",
       "    </tr>\n",
       "    <tr>\n",
       "      <th>4</th>\n",
       "      <td>3</td>\n",
       "      <td>11668.14</td>\n",
       "      <td>41554.0</td>\n",
       "      <td>29885.86</td>\n",
       "      <td>0.0</td>\n",
       "      <td>0.0</td>\n",
       "      <td>0</td>\n",
       "    </tr>\n",
       "  </tbody>\n",
       "</table>\n",
       "</div>"
      ],
      "text/plain": [
       "   type    amount  oldbalanceOrg  newbalanceOrig  oldbalanceDest  \\\n",
       "0     3   9839.64       170136.0       160296.36             0.0   \n",
       "1     3   1864.28        21249.0        19384.72             0.0   \n",
       "2     4    181.00          181.0            0.00             0.0   \n",
       "3     1    181.00          181.0            0.00         21182.0   \n",
       "4     3  11668.14        41554.0        29885.86             0.0   \n",
       "\n",
       "   newbalanceDest  isFraud  \n",
       "0             0.0        0  \n",
       "1             0.0        0  \n",
       "2             0.0        1  \n",
       "3             0.0        1  \n",
       "4             0.0        0  "
      ]
     },
     "execution_count": 12,
     "metadata": {},
     "output_type": "execute_result"
    }
   ],
   "source": [
    "df.head()"
   ]
  },
  {
   "cell_type": "code",
   "execution_count": 13,
   "id": "429a1909",
   "metadata": {},
   "outputs": [
    {
     "data": {
      "text/html": [
       "<div>\n",
       "<style scoped>\n",
       "    .dataframe tbody tr th:only-of-type {\n",
       "        vertical-align: middle;\n",
       "    }\n",
       "\n",
       "    .dataframe tbody tr th {\n",
       "        vertical-align: top;\n",
       "    }\n",
       "\n",
       "    .dataframe thead th {\n",
       "        text-align: right;\n",
       "    }\n",
       "</style>\n",
       "<table border=\"1\" class=\"dataframe\">\n",
       "  <thead>\n",
       "    <tr style=\"text-align: right;\">\n",
       "      <th></th>\n",
       "      <th>type</th>\n",
       "      <th>amount</th>\n",
       "      <th>oldbalanceOrg</th>\n",
       "      <th>newbalanceOrig</th>\n",
       "      <th>oldbalanceDest</th>\n",
       "      <th>newbalanceDest</th>\n",
       "      <th>isFraud</th>\n",
       "    </tr>\n",
       "  </thead>\n",
       "  <tbody>\n",
       "    <tr>\n",
       "      <th>count</th>\n",
       "      <td>6.362620e+06</td>\n",
       "      <td>6.362620e+06</td>\n",
       "      <td>6.362620e+06</td>\n",
       "      <td>6.362620e+06</td>\n",
       "      <td>6.362620e+06</td>\n",
       "      <td>6.362620e+06</td>\n",
       "      <td>6.362620e+06</td>\n",
       "    </tr>\n",
       "    <tr>\n",
       "      <th>mean</th>\n",
       "      <td>1.714150e+00</td>\n",
       "      <td>1.798619e+05</td>\n",
       "      <td>8.338831e+05</td>\n",
       "      <td>8.551137e+05</td>\n",
       "      <td>1.100702e+06</td>\n",
       "      <td>1.224996e+06</td>\n",
       "      <td>1.290820e-03</td>\n",
       "    </tr>\n",
       "    <tr>\n",
       "      <th>std</th>\n",
       "      <td>1.350117e+00</td>\n",
       "      <td>6.038582e+05</td>\n",
       "      <td>2.888243e+06</td>\n",
       "      <td>2.924049e+06</td>\n",
       "      <td>3.399180e+06</td>\n",
       "      <td>3.674129e+06</td>\n",
       "      <td>3.590480e-02</td>\n",
       "    </tr>\n",
       "    <tr>\n",
       "      <th>min</th>\n",
       "      <td>0.000000e+00</td>\n",
       "      <td>0.000000e+00</td>\n",
       "      <td>0.000000e+00</td>\n",
       "      <td>0.000000e+00</td>\n",
       "      <td>0.000000e+00</td>\n",
       "      <td>0.000000e+00</td>\n",
       "      <td>0.000000e+00</td>\n",
       "    </tr>\n",
       "    <tr>\n",
       "      <th>25%</th>\n",
       "      <td>1.000000e+00</td>\n",
       "      <td>1.338957e+04</td>\n",
       "      <td>0.000000e+00</td>\n",
       "      <td>0.000000e+00</td>\n",
       "      <td>0.000000e+00</td>\n",
       "      <td>0.000000e+00</td>\n",
       "      <td>0.000000e+00</td>\n",
       "    </tr>\n",
       "    <tr>\n",
       "      <th>50%</th>\n",
       "      <td>1.000000e+00</td>\n",
       "      <td>7.487194e+04</td>\n",
       "      <td>1.420800e+04</td>\n",
       "      <td>0.000000e+00</td>\n",
       "      <td>1.327057e+05</td>\n",
       "      <td>2.146614e+05</td>\n",
       "      <td>0.000000e+00</td>\n",
       "    </tr>\n",
       "    <tr>\n",
       "      <th>75%</th>\n",
       "      <td>3.000000e+00</td>\n",
       "      <td>2.087215e+05</td>\n",
       "      <td>1.073152e+05</td>\n",
       "      <td>1.442584e+05</td>\n",
       "      <td>9.430367e+05</td>\n",
       "      <td>1.111909e+06</td>\n",
       "      <td>0.000000e+00</td>\n",
       "    </tr>\n",
       "    <tr>\n",
       "      <th>max</th>\n",
       "      <td>4.000000e+00</td>\n",
       "      <td>9.244552e+07</td>\n",
       "      <td>5.958504e+07</td>\n",
       "      <td>4.958504e+07</td>\n",
       "      <td>3.560159e+08</td>\n",
       "      <td>3.561793e+08</td>\n",
       "      <td>1.000000e+00</td>\n",
       "    </tr>\n",
       "  </tbody>\n",
       "</table>\n",
       "</div>"
      ],
      "text/plain": [
       "               type        amount  oldbalanceOrg  newbalanceOrig  \\\n",
       "count  6.362620e+06  6.362620e+06   6.362620e+06    6.362620e+06   \n",
       "mean   1.714150e+00  1.798619e+05   8.338831e+05    8.551137e+05   \n",
       "std    1.350117e+00  6.038582e+05   2.888243e+06    2.924049e+06   \n",
       "min    0.000000e+00  0.000000e+00   0.000000e+00    0.000000e+00   \n",
       "25%    1.000000e+00  1.338957e+04   0.000000e+00    0.000000e+00   \n",
       "50%    1.000000e+00  7.487194e+04   1.420800e+04    0.000000e+00   \n",
       "75%    3.000000e+00  2.087215e+05   1.073152e+05    1.442584e+05   \n",
       "max    4.000000e+00  9.244552e+07   5.958504e+07    4.958504e+07   \n",
       "\n",
       "       oldbalanceDest  newbalanceDest       isFraud  \n",
       "count    6.362620e+06    6.362620e+06  6.362620e+06  \n",
       "mean     1.100702e+06    1.224996e+06  1.290820e-03  \n",
       "std      3.399180e+06    3.674129e+06  3.590480e-02  \n",
       "min      0.000000e+00    0.000000e+00  0.000000e+00  \n",
       "25%      0.000000e+00    0.000000e+00  0.000000e+00  \n",
       "50%      1.327057e+05    2.146614e+05  0.000000e+00  \n",
       "75%      9.430367e+05    1.111909e+06  0.000000e+00  \n",
       "max      3.560159e+08    3.561793e+08  1.000000e+00  "
      ]
     },
     "execution_count": 13,
     "metadata": {},
     "output_type": "execute_result"
    }
   ],
   "source": [
    "df.describe()"
   ]
  },
  {
   "cell_type": "code",
   "execution_count": 180,
   "id": "b850fb4e",
   "metadata": {},
   "outputs": [
    {
     "name": "stdout",
     "output_type": "stream",
     "text": [
      "<class 'pandas.core.frame.DataFrame'>\n",
      "RangeIndex: 6362620 entries, 0 to 6362619\n",
      "Data columns (total 7 columns):\n",
      " #   Column          Dtype  \n",
      "---  ------          -----  \n",
      " 0   type            int32  \n",
      " 1   amount          float64\n",
      " 2   oldbalanceOrg   float64\n",
      " 3   newbalanceOrig  float64\n",
      " 4   oldbalanceDest  float64\n",
      " 5   newbalanceDest  float64\n",
      " 6   isFraud         int64  \n",
      "dtypes: float64(5), int32(1), int64(1)\n",
      "memory usage: 315.5 MB\n"
     ]
    }
   ],
   "source": [
    "df.info()"
   ]
  },
  {
   "cell_type": "code",
   "execution_count": 181,
   "id": "b7fae732",
   "metadata": {},
   "outputs": [
    {
     "name": "stdout",
     "output_type": "stream",
     "text": [
      "Target variable: \n"
     ]
    },
    {
     "data": {
      "text/html": [
       "<div>\n",
       "<style scoped>\n",
       "    .dataframe tbody tr th:only-of-type {\n",
       "        vertical-align: middle;\n",
       "    }\n",
       "\n",
       "    .dataframe tbody tr th {\n",
       "        vertical-align: top;\n",
       "    }\n",
       "\n",
       "    .dataframe thead th {\n",
       "        text-align: right;\n",
       "    }\n",
       "</style>\n",
       "<table border=\"1\" class=\"dataframe\">\n",
       "  <thead>\n",
       "    <tr style=\"text-align: right;\">\n",
       "      <th></th>\n",
       "      <th>isFraud</th>\n",
       "    </tr>\n",
       "  </thead>\n",
       "  <tbody>\n",
       "    <tr>\n",
       "      <th>0</th>\n",
       "      <td>0</td>\n",
       "    </tr>\n",
       "    <tr>\n",
       "      <th>1</th>\n",
       "      <td>0</td>\n",
       "    </tr>\n",
       "    <tr>\n",
       "      <th>2</th>\n",
       "      <td>1</td>\n",
       "    </tr>\n",
       "    <tr>\n",
       "      <th>3</th>\n",
       "      <td>1</td>\n",
       "    </tr>\n",
       "    <tr>\n",
       "      <th>4</th>\n",
       "      <td>0</td>\n",
       "    </tr>\n",
       "    <tr>\n",
       "      <th>...</th>\n",
       "      <td>...</td>\n",
       "    </tr>\n",
       "    <tr>\n",
       "      <th>6362615</th>\n",
       "      <td>1</td>\n",
       "    </tr>\n",
       "    <tr>\n",
       "      <th>6362616</th>\n",
       "      <td>1</td>\n",
       "    </tr>\n",
       "    <tr>\n",
       "      <th>6362617</th>\n",
       "      <td>1</td>\n",
       "    </tr>\n",
       "    <tr>\n",
       "      <th>6362618</th>\n",
       "      <td>1</td>\n",
       "    </tr>\n",
       "    <tr>\n",
       "      <th>6362619</th>\n",
       "      <td>1</td>\n",
       "    </tr>\n",
       "  </tbody>\n",
       "</table>\n",
       "<p>6362620 rows × 1 columns</p>\n",
       "</div>"
      ],
      "text/plain": [
       "         isFraud\n",
       "0              0\n",
       "1              0\n",
       "2              1\n",
       "3              1\n",
       "4              0\n",
       "...          ...\n",
       "6362615        1\n",
       "6362616        1\n",
       "6362617        1\n",
       "6362618        1\n",
       "6362619        1\n",
       "\n",
       "[6362620 rows x 1 columns]"
      ]
     },
     "execution_count": 181,
     "metadata": {},
     "output_type": "execute_result"
    }
   ],
   "source": [
    "print ('Target variable: ') \n",
    "y = df.drop(columns=['type', 'amount', 'oldbalanceOrg', 'newbalanceOrig', 'oldbalanceDest', 'newbalanceDest'])\n",
    "y"
   ]
  },
  {
   "cell_type": "code",
   "execution_count": 182,
   "id": "9688d78c",
   "metadata": {},
   "outputs": [
    {
     "name": "stdout",
     "output_type": "stream",
     "text": [
      "Selected features: \n"
     ]
    },
    {
     "data": {
      "text/html": [
       "<div>\n",
       "<style scoped>\n",
       "    .dataframe tbody tr th:only-of-type {\n",
       "        vertical-align: middle;\n",
       "    }\n",
       "\n",
       "    .dataframe tbody tr th {\n",
       "        vertical-align: top;\n",
       "    }\n",
       "\n",
       "    .dataframe thead th {\n",
       "        text-align: right;\n",
       "    }\n",
       "</style>\n",
       "<table border=\"1\" class=\"dataframe\">\n",
       "  <thead>\n",
       "    <tr style=\"text-align: right;\">\n",
       "      <th></th>\n",
       "      <th>type</th>\n",
       "      <th>amount</th>\n",
       "      <th>oldbalanceOrg</th>\n",
       "      <th>newbalanceOrig</th>\n",
       "      <th>oldbalanceDest</th>\n",
       "      <th>newbalanceDest</th>\n",
       "    </tr>\n",
       "  </thead>\n",
       "  <tbody>\n",
       "    <tr>\n",
       "      <th>0</th>\n",
       "      <td>3</td>\n",
       "      <td>9839.64</td>\n",
       "      <td>170136.00</td>\n",
       "      <td>160296.36</td>\n",
       "      <td>0.00</td>\n",
       "      <td>0.00</td>\n",
       "    </tr>\n",
       "    <tr>\n",
       "      <th>1</th>\n",
       "      <td>3</td>\n",
       "      <td>1864.28</td>\n",
       "      <td>21249.00</td>\n",
       "      <td>19384.72</td>\n",
       "      <td>0.00</td>\n",
       "      <td>0.00</td>\n",
       "    </tr>\n",
       "    <tr>\n",
       "      <th>2</th>\n",
       "      <td>4</td>\n",
       "      <td>181.00</td>\n",
       "      <td>181.00</td>\n",
       "      <td>0.00</td>\n",
       "      <td>0.00</td>\n",
       "      <td>0.00</td>\n",
       "    </tr>\n",
       "    <tr>\n",
       "      <th>3</th>\n",
       "      <td>1</td>\n",
       "      <td>181.00</td>\n",
       "      <td>181.00</td>\n",
       "      <td>0.00</td>\n",
       "      <td>21182.00</td>\n",
       "      <td>0.00</td>\n",
       "    </tr>\n",
       "    <tr>\n",
       "      <th>4</th>\n",
       "      <td>3</td>\n",
       "      <td>11668.14</td>\n",
       "      <td>41554.00</td>\n",
       "      <td>29885.86</td>\n",
       "      <td>0.00</td>\n",
       "      <td>0.00</td>\n",
       "    </tr>\n",
       "    <tr>\n",
       "      <th>...</th>\n",
       "      <td>...</td>\n",
       "      <td>...</td>\n",
       "      <td>...</td>\n",
       "      <td>...</td>\n",
       "      <td>...</td>\n",
       "      <td>...</td>\n",
       "    </tr>\n",
       "    <tr>\n",
       "      <th>6362615</th>\n",
       "      <td>1</td>\n",
       "      <td>339682.13</td>\n",
       "      <td>339682.13</td>\n",
       "      <td>0.00</td>\n",
       "      <td>0.00</td>\n",
       "      <td>339682.13</td>\n",
       "    </tr>\n",
       "    <tr>\n",
       "      <th>6362616</th>\n",
       "      <td>4</td>\n",
       "      <td>6311409.28</td>\n",
       "      <td>6311409.28</td>\n",
       "      <td>0.00</td>\n",
       "      <td>0.00</td>\n",
       "      <td>0.00</td>\n",
       "    </tr>\n",
       "    <tr>\n",
       "      <th>6362617</th>\n",
       "      <td>1</td>\n",
       "      <td>6311409.28</td>\n",
       "      <td>6311409.28</td>\n",
       "      <td>0.00</td>\n",
       "      <td>68488.84</td>\n",
       "      <td>6379898.11</td>\n",
       "    </tr>\n",
       "    <tr>\n",
       "      <th>6362618</th>\n",
       "      <td>4</td>\n",
       "      <td>850002.52</td>\n",
       "      <td>850002.52</td>\n",
       "      <td>0.00</td>\n",
       "      <td>0.00</td>\n",
       "      <td>0.00</td>\n",
       "    </tr>\n",
       "    <tr>\n",
       "      <th>6362619</th>\n",
       "      <td>1</td>\n",
       "      <td>850002.52</td>\n",
       "      <td>850002.52</td>\n",
       "      <td>0.00</td>\n",
       "      <td>6510099.11</td>\n",
       "      <td>7360101.63</td>\n",
       "    </tr>\n",
       "  </tbody>\n",
       "</table>\n",
       "<p>6362620 rows × 6 columns</p>\n",
       "</div>"
      ],
      "text/plain": [
       "         type      amount  oldbalanceOrg  newbalanceOrig  oldbalanceDest  \\\n",
       "0           3     9839.64      170136.00       160296.36            0.00   \n",
       "1           3     1864.28       21249.00        19384.72            0.00   \n",
       "2           4      181.00         181.00            0.00            0.00   \n",
       "3           1      181.00         181.00            0.00        21182.00   \n",
       "4           3    11668.14       41554.00        29885.86            0.00   \n",
       "...       ...         ...            ...             ...             ...   \n",
       "6362615     1   339682.13      339682.13            0.00            0.00   \n",
       "6362616     4  6311409.28     6311409.28            0.00            0.00   \n",
       "6362617     1  6311409.28     6311409.28            0.00        68488.84   \n",
       "6362618     4   850002.52      850002.52            0.00            0.00   \n",
       "6362619     1   850002.52      850002.52            0.00      6510099.11   \n",
       "\n",
       "         newbalanceDest  \n",
       "0                  0.00  \n",
       "1                  0.00  \n",
       "2                  0.00  \n",
       "3                  0.00  \n",
       "4                  0.00  \n",
       "...                 ...  \n",
       "6362615       339682.13  \n",
       "6362616            0.00  \n",
       "6362617      6379898.11  \n",
       "6362618            0.00  \n",
       "6362619      7360101.63  \n",
       "\n",
       "[6362620 rows x 6 columns]"
      ]
     },
     "execution_count": 182,
     "metadata": {},
     "output_type": "execute_result"
    }
   ],
   "source": [
    "print('Selected features: ') \n",
    "X = df.drop(columns=['isFraud']) \n",
    "X"
   ]
  },
  {
   "cell_type": "code",
   "execution_count": 183,
   "id": "95cd0a6e",
   "metadata": {},
   "outputs": [
    {
     "name": "stdout",
     "output_type": "stream",
     "text": [
      "(5090096, 6) (1272524, 6) (5090096, 1) (1272524, 1) \n",
      "\n",
      "         type     amount  oldbalanceOrg  newbalanceOrig  oldbalanceDest  \\\n",
      "292779      3    9914.74       44248.00        34333.26            0.00   \n",
      "499763      3    6854.53           0.00            0.00            0.00   \n",
      "2970411     1  361211.80           0.00            0.00       489745.16   \n",
      "3137549     3    7083.51           0.00            0.00            0.00   \n",
      "1500682     0  218019.51    13045685.58     13263705.09      2438123.98   \n",
      "...       ...        ...            ...             ...             ...   \n",
      "1524870     3    1895.99           0.00            0.00            0.00   \n",
      "5834821     1  347110.99      103785.00            0.00        87871.75   \n",
      "4182953     3   13259.63           0.00            0.00            0.00   \n",
      "3985280     3   24122.92           0.00            0.00            0.00   \n",
      "1541412     3    6865.63           0.00            0.00            0.00   \n",
      "\n",
      "         newbalanceDest  \n",
      "292779             0.00  \n",
      "499763             0.00  \n",
      "2970411       850956.95  \n",
      "3137549            0.00  \n",
      "1500682      2220104.47  \n",
      "...                 ...  \n",
      "1524870            0.00  \n",
      "5834821       434982.74  \n",
      "4182953            0.00  \n",
      "3985280            0.00  \n",
      "1541412            0.00  \n",
      "\n",
      "[5090096 rows x 6 columns] \n",
      "\n",
      "         type     amount  oldbalanceOrg  newbalanceOrig  oldbalanceDest  \\\n",
      "4051353     4  890577.21         218.00            0.00            0.00   \n",
      "5746321     0   97734.24     2096258.84      2193993.08       320136.00   \n",
      "6361797     3    5907.41         315.00            0.00            0.00   \n",
      "2247309     1  187696.30       11057.00            0.00      1798095.21   \n",
      "4692207     1   82646.52           0.00            0.00      1047805.87   \n",
      "...       ...        ...            ...             ...             ...   \n",
      "4586779     1  140049.41        5262.00            0.00       276818.02   \n",
      "5202249     1  272787.29           0.00            0.00      1485733.42   \n",
      "5274477     0  135668.28       21283.00       156951.28       501327.35   \n",
      "479091      1  144388.46           0.00            0.00      1877333.10   \n",
      "2496743     4  242311.85        5729.00            0.00            0.00   \n",
      "\n",
      "         newbalanceDest  \n",
      "4051353       890577.21  \n",
      "5746321       222401.76  \n",
      "6361797            0.00  \n",
      "2247309      1985791.51  \n",
      "4692207      1130452.39  \n",
      "...                 ...  \n",
      "4586779       416867.42  \n",
      "5202249      1758520.71  \n",
      "5274477       365659.07  \n",
      "479091       2021721.57  \n",
      "2496743       242311.85  \n",
      "\n",
      "[1272524 rows x 6 columns]\n"
     ]
    }
   ],
   "source": [
    "from sklearn.model_selection import train_test_split \n",
    "\n",
    "X_train, X_test, y_train, y_test = train_test_split(X, y, test_size=0.2, random_state=42, stratify=y) \n",
    "print(X_train.shape, X_test.shape, y_train.shape, y_test.shape, '\\n')\n",
    "print(X_train, '\\n')\n",
    "print(X_test)"
   ]
  },
  {
   "cell_type": "code",
   "execution_count": 184,
   "id": "c7e066e8",
   "metadata": {},
   "outputs": [
    {
     "data": {
      "text/plain": [
       "DecisionTreeClassifier(criterion='entropy', max_depth=15, min_samples_leaf=7,\n",
       "                       min_samples_split=5)"
      ]
     },
     "execution_count": 184,
     "metadata": {},
     "output_type": "execute_result"
    }
   ],
   "source": [
    "from sklearn.tree import DecisionTreeClassifier\n",
    "\n",
    "clf = DecisionTreeClassifier(splitter = 'best', min_samples_split = 5, min_samples_leaf = 7, max_depth = 15, criterion = 'entropy')\n",
    "clf.fit(X_train, y_train)"
   ]
  },
  {
   "cell_type": "code",
   "execution_count": 114,
   "id": "bcfd0a73",
   "metadata": {
    "scrolled": false
   },
   "outputs": [
    {
     "name": "stdout",
     "output_type": "stream",
     "text": [
      "DecisionTree Classifier Cross Validation Score has: \n",
      "92.25% of precision\n",
      "81.49% of recall\n",
      "86.47% of f1\n",
      "99.97% of accuracy\n"
     ]
    }
   ],
   "source": [
    "from sklearn.model_selection import cross_val_score\n",
    "from sklearn.model_selection import KFold\n",
    "\n",
    "print(\"DecisionTree Classifier Cross Validation Score without SMOTE has: \")\n",
    "kf = KFold(n_splits = 5, random_state = 42, shuffle = True)\n",
    "for sc in ['precision', 'recall', 'f1', 'accuracy']:\n",
    "        score = cross_val_score(clf, X_train, y_train, cv=kf, scoring = sc)\n",
    "        print(round(score.mean() * 100, 2).astype(str) + '% of ' + sc)"
   ]
  },
  {
   "cell_type": "code",
   "execution_count": 145,
   "id": "02f16647",
   "metadata": {},
   "outputs": [
    {
     "data": {
      "image/png": "[encoded data removed]",
      "text/plain": [
       "<Figure size 720x360 with 1 Axes>"
      ]
     },
     "metadata": {
      "needs_background": "light"
     },
     "output_type": "display_data"
    }
   ],
   "source": [
    "x = [\"Accuracy\", \"Precision\", \"Recall\", \"f1\"]\n",
    "y = [99.97, 92.25, 81.49 ,86.47]\n",
    "\n",
    "# function to add value labels\n",
    "def addlabels(x,y):\n",
    "    for i in range(len(x)):\n",
    "        plt.text(i, y[i]//2, y[i], ha = 'center')\n",
    "\n",
    "fig1 = plt.figure(figsize = (10, 5))\n",
    "plt.bar(x, y, color ='yellow', width = 0.4)\n",
    "addlabels(x, y)\n",
    "plt.title(\"Cross-validation score\")\n",
    "plt.xlabel(\"Performance metrics\")\n",
    "plt.ylabel(\"Score\")\n",
    "plt.savefig('Cross-validation score.png', dpi=400)\n",
    "plt.show()"
   ]
  },
  {
   "cell_type": "code",
   "execution_count": 186,
   "id": "aeaa4563",
   "metadata": {},
   "outputs": [],
   "source": [
    "train_predictions = clf.predict(X_train)\n",
    "test_predictions = clf.predict(X_test)"
   ]
  },
  {
   "cell_type": "code",
   "execution_count": 187,
   "id": "9954a63d",
   "metadata": {},
   "outputs": [
    {
     "name": "stdout",
     "output_type": "stream",
     "text": [
      "Score Report of the imbalanced data \n",
      "\n",
      "Accuracy score: \n",
      "Training: 1.00\n",
      "Testing: 1.00 \n",
      "\n",
      "Precision score: \n",
      "Training: 0.96\n",
      "Testing: 0.93 \n",
      "\n",
      "Recall score: \n",
      "Training: 0.85\n",
      "Testing: 0.82 \n",
      "\n",
      "F1 score: \n",
      "Training: 0.91\n",
      "Testing: 0.87\n"
     ]
    }
   ],
   "source": [
    "from sklearn.metrics import accuracy_score, f1_score, precision_score, recall_score\n",
    "\n",
    "#printing the report\n",
    "\n",
    "print ('Score Report of the imbalanced data \\n')\n",
    "\n",
    "print ('Accuracy score: ')\n",
    "print ('Training: %.2f' % accuracy_score(y_train, train_predictions))\n",
    "print ('Testing: %.2f \\n' % accuracy_score(y_test, test_predictions))\n",
    "\n",
    "print ('Precision score: ')\n",
    "print ('Training: %.2f' % precision_score(y_train, train_predictions))\n",
    "print ('Testing: %.2f \\n' % precision_score(y_test, test_predictions))\n",
    "\n",
    "print ('Recall score: ')\n",
    "print ('Training: %.2f' % recall_score(y_train, train_predictions))\n",
    "print ('Testing: %.2f \\n' % recall_score(y_test, test_predictions))\n",
    "\n",
    "print ('F1 score: ')\n",
    "print ('Training: %.2f' % f1_score(y_train, train_predictions))\n",
    "print ('Testing: %.2f' % f1_score(y_test, test_predictions))"
   ]
  },
  {
   "cell_type": "code",
   "execution_count": 142,
   "id": "dd4581cd",
   "metadata": {},
   "outputs": [
    {
     "data": {
      "image/png": "[encoded data removed]",
      "text/plain": [
       "<Figure size 720x360 with 1 Axes>"
      ]
     },
     "metadata": {
      "needs_background": "light"
     },
     "output_type": "display_data"
    }
   ],
   "source": [
    "import matplotlib.pyplot as plt\n",
    "import numpy as np\n",
    "\n",
    "test = [100, 93, 82, 87]\n",
    "train = [100, 96, 86, 91]\n",
    "\n",
    "n=4\n",
    "r = np.arange(n)\n",
    "width = 0.3\n",
    "\n",
    "fig2 = plt.figure(figsize = (10, 5))\n",
    "plt.bar(r, test, color = 'yellow', width = width, label='Test score')\n",
    "plt.bar(r + width, train, color = 'orange', width = width, label='Train score')\n",
    "plt.xlabel(\"Performance metrics\")\n",
    "plt.ylabel(\"Score\")\n",
    "plt.title(\"Comparison between test and train scores\")\n",
    "\n",
    "# plt.grid(linestyle='--')\n",
    "plt.xticks(r + width/2,['Accuracy','Precision','Recall','f1'])\n",
    "plt.legend()\n",
    "plt.savefig('Train and Test scores.png', dpi=400)\n",
    "plt.show()\n"
   ]
  },
  {
   "cell_type": "code",
   "execution_count": 119,
   "id": "641281f5",
   "metadata": {},
   "outputs": [
    {
     "name": "stdout",
     "output_type": "stream",
     "text": [
      "DecisionTree Classifier Cross Validation Score with SMOTE has: \n",
      "46.43% of precision\n",
      "99.19% of recall\n",
      "63.26% of f1\n",
      "99.85% of accuracy\n"
     ]
    }
   ],
   "source": [
    "from imblearn.pipeline import Pipeline\n",
    "from imblearn.over_sampling import SMOTE\n",
    "\n",
    "os = SMOTE(random_state=42)\n",
    "pipeline = Pipeline([('smote', os),('clf', clf)])\n",
    "\n",
    "print(\"DecisionTree Classifier Cross Validation Score with SMOTE has: \")\n",
    "kf = KFold(n_splits = 5, random_state = 42, shuffle = True)\n",
    "for sc in ['precision', 'recall', 'f1', 'accuracy']:\n",
    "        score = cross_val_score(pipeline, X_train, y_train, cv=kf, scoring = sc)\n",
    "        print(round(score.mean() * 100, 2).astype(str) + '% of ' + sc)"
   ]
  },
  {
   "cell_type": "code",
   "execution_count": 146,
   "id": "c5f928ca",
   "metadata": {},
   "outputs": [
    {
     "data": {
      "image/png": "[encoded data removed]",
      "text/plain": [
       "<Figure size 720x360 with 1 Axes>"
      ]
     },
     "metadata": {
      "needs_background": "light"
     },
     "output_type": "display_data"
    }
   ],
   "source": [
    "x = [\"Accuracy\", \"Precision\", \"Recall\", \"f1\"]\n",
    "y = [99.85, 46.43, 99.19 ,63.26 ]\n",
    "\n",
    "fig3 = plt.figure(figsize = (10, 5))\n",
    "plt.bar(x, y, color ='yellow', width = 0.4)\n",
    "addlabels(x, y)\n",
    "plt.title(\"Cross-validation score with SMOTE\")\n",
    "plt.xlabel(\"Performance metrics\")\n",
    "plt.ylabel(\"Score\")\n",
    "plt.savefig('Cross-validation score with SMOTE.png', dpi=400)\n",
    "plt.show()"
   ]
  },
  {
   "cell_type": "code",
   "execution_count": 147,
   "id": "cadc97df",
   "metadata": {},
   "outputs": [
    {
     "data": {
      "image/png": "[encoded data removed]",
      "text/plain": [
       "<Figure size 720x360 with 1 Axes>"
      ]
     },
     "metadata": {
      "needs_background": "light"
     },
     "output_type": "display_data"
    }
   ],
   "source": [
    "x = [\"Accuracy\", \"Precision\", \"Recall\", \"f1\"]\n",
    "y = [99.97, 92.25, 81.49 ,86.47]\n",
    "\n",
    "fig4 = plt.figure(figsize = (10, 5))\n",
    "plt.bar(x, y, color ='yellow', width = 0.4)\n",
    "addlabels(x, y)\n",
    "plt.title(\"Measurement Results\")\n",
    "plt.xlabel(\"Performance metrics\")\n",
    "plt.ylabel(\"Score\")\n",
    "plt.savefig('Measurement Results.png', dpi=400)\n",
    "plt.show()"
   ]
  },
  {
   "cell_type": "code",
   "execution_count": 151,
   "id": "df29ee09",
   "metadata": {},
   "outputs": [
    {
     "data": {
      "image/png": "[encoded data removed]",
      "text/plain": [
       "<Figure size 720x360 with 2 Axes>"
      ]
     },
     "metadata": {
      "needs_background": "light"
     },
     "output_type": "display_data"
    }
   ],
   "source": [
    "from sklearn.metrics import confusion_matrix\n",
    "\n",
    "fig5 = plt.figure(figsize = (10, 5))\n",
    "cf = confusion_matrix(y_test, test_predictions)\n",
    "group_names = ['True Negatives','False Positives','False Negatives','True Positives']\n",
    "group_counts = [\"{0:0.0f}\".format(value) for value in cf.flatten()]\n",
    "group_percentages = [\"{0:.2%}\".format(value) for value in cf.flatten()/np.sum(cf)]\n",
    "labels = [f\"{v1}\\n{v2}\\n{v3}\" for v1, v2, v3 in zip(group_names,group_counts,group_percentages)]\n",
    "labels = np.asarray(labels).reshape(2,2)\n",
    "\n",
    "ax = sns.heatmap(cf, annot=labels, fmt='', cmap='Set3')\n",
    "\n",
    "ax.set_title('Confusion Matrix - Decision Tree Based Fraud Detection System \\n\\n');\n",
    "ax.set_xlabel('\\nPredicted Values')\n",
    "ax.set_ylabel('Actual Values ');\n",
    "\n",
    "#Ticket labels - must be in alphabetical order\n",
    "\n",
    "ax.xaxis.set_ticklabels(['0','1'])\n",
    "ax.yaxis.set_ticklabels(['0','1'])\n",
    "\n",
    "#Display the visualization of the Confusion Matrix\n",
    "\n",
    "plt.savefig('ConfusionMatrix.png',dpi=400)\n",
    "plt.show()"
   ]
  },
  {
   "cell_type": "code",
   "execution_count": 194,
   "id": "6cd29c31",
   "metadata": {
    "scrolled": true
   },
   "outputs": [
    {
     "data": {
      "image/png": "[encoded data removed]",
      "text/plain": [
       "<Figure size 1800x2160 with 1 Axes>"
      ]
     },
     "metadata": {
      "needs_background": "light"
     },
     "output_type": "display_data"
    }
   ],
   "source": [
    "from sklearn import tree\n",
    "\n",
    "\n",
    "fn=['type', 'amount', 'oldbalanceOrg', 'newbalanceOrig', 'oldbalanceDest', 'newbalanceDest']\n",
    "\n",
    "fig6 = plt.figure(figsize=(25,30))\n",
    "_ = tree.plot_tree(clf, max_depth = 2, feature_names=fn, class_names=True, filled=True)\n",
    "\n",
    "fig6.savefig('tree.png',dpi=400)"
   ]
  },
  {
   "cell_type": "code",
   "execution_count": 15,
   "id": "56235cc6",
   "metadata": {},
   "outputs": [
    {
     "name": "stdout",
     "output_type": "stream",
     "text": [
      "              precision    recall  f1-score   support\n",
      "\n",
      "           0       1.00      1.00      1.00   1270881\n",
      "           1       0.92      0.81      0.86      1643\n",
      "\n",
      "    accuracy                           1.00   1272524\n",
      "   macro avg       0.96      0.90      0.93   1272524\n",
      "weighted avg       1.00      1.00      1.00   1272524\n",
      "\n"
     ]
    }
   ],
   "source": [
    "from sklearn.metrics import classification_report\n",
    "print(classification_report(y_test, test_predictions))"
   ]
  },
  {
   "cell_type": "code",
   "execution_count": 108,
   "id": "eaff908a",
   "metadata": {},
   "outputs": [],
   "source": [
    "import pickle\n",
    "\n",
    "pickle.dump(clf, open('FDSmodel.pkl', 'wb'))"
   ]
  },
  {
   "cell_type": "code",
   "execution_count": 109,
   "id": "f76a7c20",
   "metadata": {},
   "outputs": [],
   "source": [
    "clf1 = pickle.load(open('FDSmodel.pkl', 'rb'))"
   ]
  },
  {
   "cell_type": "code",
   "execution_count": 113,
   "id": "354a8310",
   "metadata": {},
   "outputs": [
    {
     "name": "stdout",
     "output_type": "stream",
     "text": [
      "[0]\n"
     ]
    },
    {
     "name": "stderr",
     "output_type": "stream",
     "text": [
      "C:\\Users\\maha\\anaconda3\\lib\\site-packages\\sklearn\\base.py:450: UserWarning: X does not have valid feature names, but DecisionTreeClassifier was fitted with feature names\n",
      "  warnings.warn(\n"
     ]
    }
   ],
   "source": [
    "print(clf1.predict([[1, 416001.33, 0, 0, 102, 9291619.62]]))"
   ]
  },
  {
   "cell_type": "code",
   "execution_count": 195,
   "id": "7d68c9fd",
   "metadata": {},
   "outputs": [
    {
     "data": {
      "image/png": "[encoded data removed]",
      "text/plain": [
       "<Figure size 720x360 with 1 Axes>"
      ]
     },
     "metadata": {
      "needs_background": "light"
     },
     "output_type": "display_data"
    }
   ],
   "source": [
    "x = [\"Accuracy\", \"Precision\", \"Recall\", \"f1\"]\n",
    "y = [99.98, 90.02, 42.63 , 57.12]\n",
    "\n",
    "fig4 = plt.figure(figsize = (10, 5))\n",
    "plt.bar(x, y, color ='yellow', width = 0.4)\n",
    "addlabels(x, y)\n",
    "plt.title(\"Logistic Regression Score\")\n",
    "plt.xlabel(\"Performance metrics\")\n",
    "plt.ylabel(\"Score\")\n",
    "plt.savefig('Logistic Regression.png', dpi=400)\n",
    "plt.show()"
   ]
  },
  {
   "cell_type": "code",
   "execution_count": null,
   "id": "744e510b",
   "metadata": {},
   "outputs": [],
   "source": []
  }
 ],
 "metadata": {
  "kernelspec": {
   "display_name": "Python 3 (ipykernel)",
   "language": "python",
   "name": "python3"
  },
  "language_info": {
   "codemirror_mode": {
    "name": "ipython",
    "version": 3
   },
   "file_extension": ".py",
   "mimetype": "text/x-python",
   "name": "python",
   "nbconvert_exporter": "python",
   "pygments_lexer": "ipython3",
   "version": "3.9.7"
  }
 },
 "nbformat": 4,
 "nbformat_minor": 5
}
