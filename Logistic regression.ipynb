{
 "cells": [
  {
   "cell_type": "code",
   "execution_count": 1,
   "id": "09629ef1",
   "metadata": {
    "execution": {
     "iopub.execute_input": "2022-04-03T17:18:50.688393Z",
     "iopub.status.busy": "2022-04-03T17:18:50.686992Z",
     "iopub.status.idle": "2022-04-03T17:18:52.889172Z",
     "shell.execute_reply": "2022-04-03T17:18:52.888424Z",
     "shell.execute_reply.started": "2022-04-03T17:17:22.369031Z"
    },
    "papermill": {
     "duration": 2.236419,
     "end_time": "2022-04-03T17:18:52.889368",
     "exception": false,
     "start_time": "2022-04-03T17:18:50.652949",
     "status": "completed"
    },
    "tags": []
   },
   "outputs": [
    {
     "ename": "ModuleNotFoundError",
     "evalue": "No module named 'pandas'",
     "output_type": "error",
     "traceback": [
      "\u001b[1;31m---------------------------------------------------------------------------\u001b[0m",
      "\u001b[1;31mModuleNotFoundError\u001b[0m                       Traceback (most recent call last)",
      "Cell \u001b[1;32mIn[1], line 2\u001b[0m\n\u001b[0;32m      1\u001b[0m \u001b[39mimport\u001b[39;00m \u001b[39mnumpy\u001b[39;00m \u001b[39mas\u001b[39;00m \u001b[39mnp\u001b[39;00m\n\u001b[1;32m----> 2\u001b[0m \u001b[39mimport\u001b[39;00m \u001b[39mpandas\u001b[39;00m \u001b[39mas\u001b[39;00m \u001b[39mpd\u001b[39;00m\n\u001b[0;32m      3\u001b[0m \u001b[39mimport\u001b[39;00m \u001b[39mmatplotlib\u001b[39;00m\u001b[39m.\u001b[39;00m\u001b[39mpyplot\u001b[39;00m \u001b[39mas\u001b[39;00m \u001b[39mplt\u001b[39;00m\n\u001b[0;32m      4\u001b[0m \u001b[39mimport\u001b[39;00m \u001b[39mseaborn\u001b[39;00m \u001b[39mas\u001b[39;00m \u001b[39msns\u001b[39;00m\n",
      "\u001b[1;31mModuleNotFoundError\u001b[0m: No module named 'pandas'"
     ]
    }
   ],
   "source": [
    "import numpy as np\n",
    "import pandas as pd\n",
    "import matplotlib.pyplot as plt\n",
    "import seaborn as sns"
   ]
  },
  {
   "cell_type": "code",
   "execution_count": 2,
   "id": "c9f8504f",
   "metadata": {
    "execution": {
     "iopub.execute_input": "2022-04-03T17:18:52.955064Z",
     "iopub.status.busy": "2022-04-03T17:18:52.954360Z",
     "iopub.status.idle": "2022-04-03T17:19:13.178469Z",
     "shell.execute_reply": "2022-04-03T17:19:13.178971Z",
     "shell.execute_reply.started": "2022-04-03T17:17:22.374704Z"
    },
    "papermill": {
     "duration": 20.258649,
     "end_time": "2022-04-03T17:19:13.179161",
     "exception": false,
     "start_time": "2022-04-03T17:18:52.920512",
     "status": "completed"
    },
    "tags": []
   },
   "outputs": [],
   "source": [
    "# reading the DataFrame\n",
    "df = pd.read_csv(\"Fraud.csv\")"
   ]
  },
  {
   "cell_type": "code",
   "execution_count": 3,
   "id": "2a81597e",
   "metadata": {
    "execution": {
     "iopub.execute_input": "2022-04-03T17:19:13.248925Z",
     "iopub.status.busy": "2022-04-03T17:19:13.248020Z",
     "iopub.status.idle": "2022-04-03T17:19:13.251900Z",
     "shell.execute_reply": "2022-04-03T17:19:13.252390Z",
     "shell.execute_reply.started": "2022-04-03T17:17:39.442634Z"
    },
    "papermill": {
     "duration": 0.044216,
     "end_time": "2022-04-03T17:19:13.252554",
     "exception": false,
     "start_time": "2022-04-03T17:19:13.208338",
     "status": "completed"
    },
    "tags": []
   },
   "outputs": [
    {
     "data": {
      "text/plain": [
       "step                int64\n",
       "type               object\n",
       "amount            float64\n",
       "nameOrig           object\n",
       "oldbalanceOrg     float64\n",
       "newbalanceOrig    float64\n",
       "nameDest           object\n",
       "oldbalanceDest    float64\n",
       "newbalanceDest    float64\n",
       "isFraud             int64\n",
       "isFlaggedFraud      int64\n",
       "dtype: object"
      ]
     },
     "execution_count": 3,
     "metadata": {},
     "output_type": "execute_result"
    }
   ],
   "source": [
    "# checking the data types\n",
    "df.dtypes"
   ]
  },
  {
   "cell_type": "code",
   "execution_count": 4,
   "id": "d1eb6c4a",
   "metadata": {
    "execution": {
     "iopub.execute_input": "2022-04-03T17:19:13.318702Z",
     "iopub.status.busy": "2022-04-03T17:19:13.317559Z",
     "iopub.status.idle": "2022-04-03T17:19:13.321253Z",
     "shell.execute_reply": "2022-04-03T17:19:13.321784Z",
     "shell.execute_reply.started": "2022-04-03T17:17:39.462107Z"
    },
    "papermill": {
     "duration": 0.039111,
     "end_time": "2022-04-03T17:19:13.321990",
     "exception": false,
     "start_time": "2022-04-03T17:19:13.282879",
     "status": "completed"
    },
    "tags": []
   },
   "outputs": [
    {
     "data": {
      "text/plain": [
       "(6362620, 11)"
      ]
     },
     "execution_count": 4,
     "metadata": {},
     "output_type": "execute_result"
    }
   ],
   "source": [
    "# checking the shape of the data\n",
    "df.shape"
   ]
  },
  {
   "cell_type": "code",
   "execution_count": 5,
   "id": "b563f66f",
   "metadata": {
    "execution": {
     "iopub.execute_input": "2022-04-03T17:19:13.387111Z",
     "iopub.status.busy": "2022-04-03T17:19:13.386378Z",
     "iopub.status.idle": "2022-04-03T17:19:13.405158Z",
     "shell.execute_reply": "2022-04-03T17:19:13.404515Z",
     "shell.execute_reply.started": "2022-04-03T17:17:39.473222Z"
    },
    "papermill": {
     "duration": 0.053884,
     "end_time": "2022-04-03T17:19:13.405325",
     "exception": false,
     "start_time": "2022-04-03T17:19:13.351441",
     "status": "completed"
    },
    "tags": []
   },
   "outputs": [
    {
     "data": {
      "text/html": [
       "<div>\n",
       "<style scoped>\n",
       "    .dataframe tbody tr th:only-of-type {\n",
       "        vertical-align: middle;\n",
       "    }\n",
       "\n",
       "    .dataframe tbody tr th {\n",
       "        vertical-align: top;\n",
       "    }\n",
       "\n",
       "    .dataframe thead th {\n",
       "        text-align: right;\n",
       "    }\n",
       "</style>\n",
       "<table border=\"1\" class=\"dataframe\">\n",
       "  <thead>\n",
       "    <tr style=\"text-align: right;\">\n",
       "      <th></th>\n",
       "      <th>step</th>\n",
       "      <th>type</th>\n",
       "      <th>amount</th>\n",
       "      <th>nameOrig</th>\n",
       "      <th>oldbalanceOrg</th>\n",
       "      <th>newbalanceOrig</th>\n",
       "      <th>nameDest</th>\n",
       "      <th>oldbalanceDest</th>\n",
       "      <th>newbalanceDest</th>\n",
       "      <th>isFraud</th>\n",
       "      <th>isFlaggedFraud</th>\n",
       "    </tr>\n",
       "  </thead>\n",
       "  <tbody>\n",
       "    <tr>\n",
       "      <th>0</th>\n",
       "      <td>1</td>\n",
       "      <td>PAYMENT</td>\n",
       "      <td>9839.64</td>\n",
       "      <td>C1231006815</td>\n",
       "      <td>170136.0</td>\n",
       "      <td>160296.36</td>\n",
       "      <td>M1979787155</td>\n",
       "      <td>0.0</td>\n",
       "      <td>0.0</td>\n",
       "      <td>0</td>\n",
       "      <td>0</td>\n",
       "    </tr>\n",
       "    <tr>\n",
       "      <th>1</th>\n",
       "      <td>1</td>\n",
       "      <td>PAYMENT</td>\n",
       "      <td>1864.28</td>\n",
       "      <td>C1666544295</td>\n",
       "      <td>21249.0</td>\n",
       "      <td>19384.72</td>\n",
       "      <td>M2044282225</td>\n",
       "      <td>0.0</td>\n",
       "      <td>0.0</td>\n",
       "      <td>0</td>\n",
       "      <td>0</td>\n",
       "    </tr>\n",
       "    <tr>\n",
       "      <th>2</th>\n",
       "      <td>1</td>\n",
       "      <td>TRANSFER</td>\n",
       "      <td>181.00</td>\n",
       "      <td>C1305486145</td>\n",
       "      <td>181.0</td>\n",
       "      <td>0.00</td>\n",
       "      <td>C553264065</td>\n",
       "      <td>0.0</td>\n",
       "      <td>0.0</td>\n",
       "      <td>1</td>\n",
       "      <td>0</td>\n",
       "    </tr>\n",
       "    <tr>\n",
       "      <th>3</th>\n",
       "      <td>1</td>\n",
       "      <td>CASH_OUT</td>\n",
       "      <td>181.00</td>\n",
       "      <td>C840083671</td>\n",
       "      <td>181.0</td>\n",
       "      <td>0.00</td>\n",
       "      <td>C38997010</td>\n",
       "      <td>21182.0</td>\n",
       "      <td>0.0</td>\n",
       "      <td>1</td>\n",
       "      <td>0</td>\n",
       "    </tr>\n",
       "    <tr>\n",
       "      <th>4</th>\n",
       "      <td>1</td>\n",
       "      <td>PAYMENT</td>\n",
       "      <td>11668.14</td>\n",
       "      <td>C2048537720</td>\n",
       "      <td>41554.0</td>\n",
       "      <td>29885.86</td>\n",
       "      <td>M1230701703</td>\n",
       "      <td>0.0</td>\n",
       "      <td>0.0</td>\n",
       "      <td>0</td>\n",
       "      <td>0</td>\n",
       "    </tr>\n",
       "  </tbody>\n",
       "</table>\n",
       "</div>"
      ],
      "text/plain": [
       "   step      type    amount     nameOrig  oldbalanceOrg  newbalanceOrig  \\\n",
       "0     1   PAYMENT   9839.64  C1231006815       170136.0       160296.36   \n",
       "1     1   PAYMENT   1864.28  C1666544295        21249.0        19384.72   \n",
       "2     1  TRANSFER    181.00  C1305486145          181.0            0.00   \n",
       "3     1  CASH_OUT    181.00   C840083671          181.0            0.00   \n",
       "4     1   PAYMENT  11668.14  C2048537720        41554.0        29885.86   \n",
       "\n",
       "      nameDest  oldbalanceDest  newbalanceDest  isFraud  isFlaggedFraud  \n",
       "0  M1979787155             0.0             0.0        0               0  \n",
       "1  M2044282225             0.0             0.0        0               0  \n",
       "2   C553264065             0.0             0.0        1               0  \n",
       "3    C38997010         21182.0             0.0        1               0  \n",
       "4  M1230701703             0.0             0.0        0               0  "
      ]
     },
     "execution_count": 5,
     "metadata": {},
     "output_type": "execute_result"
    }
   ],
   "source": [
    "# checking the head of the data\n",
    "df.head()"
   ]
  },
  {
   "cell_type": "code",
   "execution_count": 6,
   "id": "a1ded0d3",
   "metadata": {
    "execution": {
     "iopub.execute_input": "2022-04-03T17:19:13.486082Z",
     "iopub.status.busy": "2022-04-03T17:19:13.474754Z",
     "iopub.status.idle": "2022-04-03T17:19:13.490852Z",
     "shell.execute_reply": "2022-04-03T17:19:13.489921Z",
     "shell.execute_reply.started": "2022-04-03T17:17:39.504712Z"
    },
    "papermill": {
     "duration": 0.05571,
     "end_time": "2022-04-03T17:19:13.491047",
     "exception": false,
     "start_time": "2022-04-03T17:19:13.435337",
     "status": "completed"
    },
    "tags": []
   },
   "outputs": [
    {
     "name": "stdout",
     "output_type": "stream",
     "text": [
      "<class 'pandas.core.frame.DataFrame'>\n",
      "RangeIndex: 6362620 entries, 0 to 6362619\n",
      "Data columns (total 11 columns):\n",
      " #   Column          Dtype  \n",
      "---  ------          -----  \n",
      " 0   step            int64  \n",
      " 1   type            object \n",
      " 2   amount          float64\n",
      " 3   nameOrig        object \n",
      " 4   oldbalanceOrg   float64\n",
      " 5   newbalanceOrig  float64\n",
      " 6   nameDest        object \n",
      " 7   oldbalanceDest  float64\n",
      " 8   newbalanceDest  float64\n",
      " 9   isFraud         int64  \n",
      " 10  isFlaggedFraud  int64  \n",
      "dtypes: float64(5), int64(3), object(3)\n",
      "memory usage: 534.0+ MB\n"
     ]
    }
   ],
   "source": [
    "# checking the info of the data\n",
    "df.info()"
   ]
  },
  {
   "cell_type": "code",
   "execution_count": 7,
   "id": "2660cdb9",
   "metadata": {
    "execution": {
     "iopub.execute_input": "2022-04-03T17:19:13.701066Z",
     "iopub.status.busy": "2022-04-03T17:19:13.700302Z",
     "iopub.status.idle": "2022-04-03T17:19:15.354249Z",
     "shell.execute_reply": "2022-04-03T17:19:15.353536Z",
     "shell.execute_reply.started": "2022-04-03T17:17:39.535106Z"
    },
    "papermill": {
     "duration": 1.830777,
     "end_time": "2022-04-03T17:19:15.354399",
     "exception": false,
     "start_time": "2022-04-03T17:19:13.523622",
     "status": "completed"
    },
    "tags": []
   },
   "outputs": [
    {
     "data": {
      "text/html": [
       "<div>\n",
       "<style scoped>\n",
       "    .dataframe tbody tr th:only-of-type {\n",
       "        vertical-align: middle;\n",
       "    }\n",
       "\n",
       "    .dataframe tbody tr th {\n",
       "        vertical-align: top;\n",
       "    }\n",
       "\n",
       "    .dataframe thead th {\n",
       "        text-align: right;\n",
       "    }\n",
       "</style>\n",
       "<table border=\"1\" class=\"dataframe\">\n",
       "  <thead>\n",
       "    <tr style=\"text-align: right;\">\n",
       "      <th></th>\n",
       "      <th>count</th>\n",
       "      <th>mean</th>\n",
       "      <th>std</th>\n",
       "      <th>min</th>\n",
       "      <th>25%</th>\n",
       "      <th>50%</th>\n",
       "      <th>75%</th>\n",
       "      <th>max</th>\n",
       "    </tr>\n",
       "  </thead>\n",
       "  <tbody>\n",
       "    <tr>\n",
       "      <th>step</th>\n",
       "      <td>6362620.0</td>\n",
       "      <td>2.433972e+02</td>\n",
       "      <td>1.423320e+02</td>\n",
       "      <td>1.0</td>\n",
       "      <td>156.00</td>\n",
       "      <td>239.000</td>\n",
       "      <td>3.350000e+02</td>\n",
       "      <td>7.430000e+02</td>\n",
       "    </tr>\n",
       "    <tr>\n",
       "      <th>amount</th>\n",
       "      <td>6362620.0</td>\n",
       "      <td>1.798619e+05</td>\n",
       "      <td>6.038582e+05</td>\n",
       "      <td>0.0</td>\n",
       "      <td>13389.57</td>\n",
       "      <td>74871.940</td>\n",
       "      <td>2.087215e+05</td>\n",
       "      <td>9.244552e+07</td>\n",
       "    </tr>\n",
       "    <tr>\n",
       "      <th>oldbalanceOrg</th>\n",
       "      <td>6362620.0</td>\n",
       "      <td>8.338831e+05</td>\n",
       "      <td>2.888243e+06</td>\n",
       "      <td>0.0</td>\n",
       "      <td>0.00</td>\n",
       "      <td>14208.000</td>\n",
       "      <td>1.073152e+05</td>\n",
       "      <td>5.958504e+07</td>\n",
       "    </tr>\n",
       "    <tr>\n",
       "      <th>newbalanceOrig</th>\n",
       "      <td>6362620.0</td>\n",
       "      <td>8.551137e+05</td>\n",
       "      <td>2.924049e+06</td>\n",
       "      <td>0.0</td>\n",
       "      <td>0.00</td>\n",
       "      <td>0.000</td>\n",
       "      <td>1.442584e+05</td>\n",
       "      <td>4.958504e+07</td>\n",
       "    </tr>\n",
       "    <tr>\n",
       "      <th>oldbalanceDest</th>\n",
       "      <td>6362620.0</td>\n",
       "      <td>1.100702e+06</td>\n",
       "      <td>3.399180e+06</td>\n",
       "      <td>0.0</td>\n",
       "      <td>0.00</td>\n",
       "      <td>132705.665</td>\n",
       "      <td>9.430367e+05</td>\n",
       "      <td>3.560159e+08</td>\n",
       "    </tr>\n",
       "    <tr>\n",
       "      <th>newbalanceDest</th>\n",
       "      <td>6362620.0</td>\n",
       "      <td>1.224996e+06</td>\n",
       "      <td>3.674129e+06</td>\n",
       "      <td>0.0</td>\n",
       "      <td>0.00</td>\n",
       "      <td>214661.440</td>\n",
       "      <td>1.111909e+06</td>\n",
       "      <td>3.561793e+08</td>\n",
       "    </tr>\n",
       "    <tr>\n",
       "      <th>isFraud</th>\n",
       "      <td>6362620.0</td>\n",
       "      <td>1.290820e-03</td>\n",
       "      <td>3.590480e-02</td>\n",
       "      <td>0.0</td>\n",
       "      <td>0.00</td>\n",
       "      <td>0.000</td>\n",
       "      <td>0.000000e+00</td>\n",
       "      <td>1.000000e+00</td>\n",
       "    </tr>\n",
       "    <tr>\n",
       "      <th>isFlaggedFraud</th>\n",
       "      <td>6362620.0</td>\n",
       "      <td>2.514687e-06</td>\n",
       "      <td>1.585775e-03</td>\n",
       "      <td>0.0</td>\n",
       "      <td>0.00</td>\n",
       "      <td>0.000</td>\n",
       "      <td>0.000000e+00</td>\n",
       "      <td>1.000000e+00</td>\n",
       "    </tr>\n",
       "  </tbody>\n",
       "</table>\n",
       "</div>"
      ],
      "text/plain": [
       "                    count          mean           std  min       25%  \\\n",
       "step            6362620.0  2.433972e+02  1.423320e+02  1.0    156.00   \n",
       "amount          6362620.0  1.798619e+05  6.038582e+05  0.0  13389.57   \n",
       "oldbalanceOrg   6362620.0  8.338831e+05  2.888243e+06  0.0      0.00   \n",
       "newbalanceOrig  6362620.0  8.551137e+05  2.924049e+06  0.0      0.00   \n",
       "oldbalanceDest  6362620.0  1.100702e+06  3.399180e+06  0.0      0.00   \n",
       "newbalanceDest  6362620.0  1.224996e+06  3.674129e+06  0.0      0.00   \n",
       "isFraud         6362620.0  1.290820e-03  3.590480e-02  0.0      0.00   \n",
       "isFlaggedFraud  6362620.0  2.514687e-06  1.585775e-03  0.0      0.00   \n",
       "\n",
       "                       50%           75%           max  \n",
       "step               239.000  3.350000e+02  7.430000e+02  \n",
       "amount           74871.940  2.087215e+05  9.244552e+07  \n",
       "oldbalanceOrg    14208.000  1.073152e+05  5.958504e+07  \n",
       "newbalanceOrig       0.000  1.442584e+05  4.958504e+07  \n",
       "oldbalanceDest  132705.665  9.430367e+05  3.560159e+08  \n",
       "newbalanceDest  214661.440  1.111909e+06  3.561793e+08  \n",
       "isFraud              0.000  0.000000e+00  1.000000e+00  \n",
       "isFlaggedFraud       0.000  0.000000e+00  1.000000e+00  "
      ]
     },
     "execution_count": 7,
     "metadata": {},
     "output_type": "execute_result"
    }
   ],
   "source": [
    "# describing the data\n",
    "df.describe().transpose()"
   ]
  },
  {
   "cell_type": "code",
   "execution_count": 8,
   "id": "f26bb603",
   "metadata": {
    "execution": {
     "iopub.execute_input": "2022-04-03T17:19:15.427425Z",
     "iopub.status.busy": "2022-04-03T17:19:15.426672Z",
     "iopub.status.idle": "2022-04-03T17:19:17.584650Z",
     "shell.execute_reply": "2022-04-03T17:19:17.584067Z",
     "shell.execute_reply.started": "2022-04-03T17:17:41.222637Z"
    },
    "papermill": {
     "duration": 2.198079,
     "end_time": "2022-04-03T17:19:17.584797",
     "exception": false,
     "start_time": "2022-04-03T17:19:15.386718",
     "status": "completed"
    },
    "tags": []
   },
   "outputs": [
    {
     "data": {
      "text/plain": [
       "step              0\n",
       "type              0\n",
       "amount            0\n",
       "nameOrig          0\n",
       "oldbalanceOrg     0\n",
       "newbalanceOrig    0\n",
       "nameDest          0\n",
       "oldbalanceDest    0\n",
       "newbalanceDest    0\n",
       "isFraud           0\n",
       "isFlaggedFraud    0\n",
       "dtype: int64"
      ]
     },
     "execution_count": 8,
     "metadata": {},
     "output_type": "execute_result"
    }
   ],
   "source": [
    "df.isnull().sum()"
   ]
  },
  {
   "cell_type": "code",
   "execution_count": 9,
   "id": "bc00ac3b",
   "metadata": {
    "execution": {
     "iopub.execute_input": "2022-04-03T17:19:17.657196Z",
     "iopub.status.busy": "2022-04-03T17:19:17.655664Z",
     "iopub.status.idle": "2022-04-03T17:19:19.160969Z",
     "shell.execute_reply": "2022-04-03T17:19:19.160243Z",
     "shell.execute_reply.started": "2022-04-03T17:17:42.121918Z"
    },
    "papermill": {
     "duration": 1.544987,
     "end_time": "2022-04-03T17:19:19.161121",
     "exception": false,
     "start_time": "2022-04-03T17:19:17.616134",
     "status": "completed"
    },
    "tags": []
   },
   "outputs": [
    {
     "data": {
      "text/plain": [
       "newbalanceOrig   -0.008148\n",
       "oldbalanceDest   -0.005885\n",
       "newbalanceDest    0.000535\n",
       "oldbalanceOrg     0.010154\n",
       "step              0.031578\n",
       "isFlaggedFraud    0.044109\n",
       "amount            0.076688\n",
       "isFraud           1.000000\n",
       "Name: isFraud, dtype: float64"
      ]
     },
     "execution_count": 9,
     "metadata": {},
     "output_type": "execute_result"
    }
   ],
   "source": [
    "# checking the correlation between the variables with the target variable\n",
    "df.corr()[\"isFraud\"].sort_values()"
   ]
  },
  {
   "cell_type": "code",
   "execution_count": 10,
   "id": "d305d9a0",
   "metadata": {
    "execution": {
     "iopub.execute_input": "2022-04-03T17:19:19.232283Z",
     "iopub.status.busy": "2022-04-03T17:19:19.231556Z",
     "iopub.status.idle": "2022-04-03T17:19:21.559417Z",
     "shell.execute_reply": "2022-04-03T17:19:21.559944Z",
     "shell.execute_reply.started": "2022-04-03T17:17:43.593179Z"
    },
    "papermill": {
     "duration": 2.366644,
     "end_time": "2022-04-03T17:19:21.560128",
     "exception": false,
     "start_time": "2022-04-03T17:19:19.193484",
     "status": "completed"
    },
    "tags": []
   },
   "outputs": [
    {
     "data": {
      "text/plain": [
       "<AxesSubplot:>"
      ]
     },
     "execution_count": 10,
     "metadata": {},
     "output_type": "execute_result"
    },
    {
     "data": {
      "image/png": "[encoded data removed]",
      "text/plain": [
       "<Figure size 864x576 with 2 Axes>"
      ]
     },
     "metadata": {
      "needs_background": "light"
     },
     "output_type": "display_data"
    }
   ],
   "source": [
    "# heatmap of the correlation between the variables with the target variable\n",
    "plt.figure(figsize=(12,8))\n",
    "sns.heatmap(df.corr(), annot=True)"
   ]
  },
  {
   "cell_type": "code",
   "execution_count": 11,
   "id": "f0515078",
   "metadata": {
    "execution": {
     "iopub.execute_input": "2022-04-03T17:19:21.669990Z",
     "iopub.status.busy": "2022-04-03T17:19:21.668935Z",
     "iopub.status.idle": "2022-04-03T17:19:21.673587Z",
     "shell.execute_reply": "2022-04-03T17:19:21.672931Z",
     "shell.execute_reply.started": "2022-04-03T17:17:45.985976Z"
    },
    "papermill": {
     "duration": 0.079477,
     "end_time": "2022-04-03T17:19:21.673753",
     "exception": false,
     "start_time": "2022-04-03T17:19:21.594276",
     "status": "completed"
    },
    "tags": []
   },
   "outputs": [
    {
     "data": {
      "text/plain": [
       "0    6354407\n",
       "1       8213\n",
       "Name: isFraud, dtype: int64"
      ]
     },
     "execution_count": 11,
     "metadata": {},
     "output_type": "execute_result"
    }
   ],
   "source": [
    "df[\"isFraud\"].value_counts()\n",
    "# as we see here we have an unbalanced dataset"
   ]
  },
  {
   "cell_type": "code",
   "execution_count": 12,
   "id": "c8221b03",
   "metadata": {
    "execution": {
     "iopub.execute_input": "2022-04-03T17:19:21.783115Z",
     "iopub.status.busy": "2022-04-03T17:19:21.780254Z",
     "iopub.status.idle": "2022-04-03T17:19:21.788701Z",
     "shell.execute_reply": "2022-04-03T17:19:21.788027Z",
     "shell.execute_reply.started": "2022-04-03T17:17:46.025524Z"
    },
    "papermill": {
     "duration": 0.080726,
     "end_time": "2022-04-03T17:19:21.788860",
     "exception": false,
     "start_time": "2022-04-03T17:19:21.708134",
     "status": "completed"
    },
    "tags": []
   },
   "outputs": [
    {
     "data": {
      "text/plain": [
       "0    0.998709\n",
       "1    0.001291\n",
       "Name: isFraud, dtype: float64"
      ]
     },
     "execution_count": 12,
     "metadata": {},
     "output_type": "execute_result"
    }
   ],
   "source": [
    "df[\"isFraud\"].value_counts(normalize=True)\n",
    "# more than 90 % of the data is not fraud"
   ]
  },
  {
   "cell_type": "code",
   "execution_count": 13,
   "id": "03f0e262",
   "metadata": {
    "execution": {
     "iopub.execute_input": "2022-04-03T17:19:22.871875Z",
     "iopub.status.busy": "2022-04-03T17:19:22.870859Z",
     "iopub.status.idle": "2022-04-03T17:19:22.875774Z",
     "shell.execute_reply": "2022-04-03T17:19:22.875124Z",
     "shell.execute_reply.started": "2022-04-03T17:17:46.075629Z"
    },
    "papermill": {
     "duration": 1.049357,
     "end_time": "2022-04-03T17:19:22.875924",
     "exception": false,
     "start_time": "2022-04-03T17:19:21.826567",
     "status": "completed"
    },
    "tags": []
   },
   "outputs": [
    {
     "data": {
      "text/plain": [
       "CASH_OUT    2237500\n",
       "PAYMENT     2151495\n",
       "CASH_IN     1399284\n",
       "TRANSFER     532909\n",
       "DEBIT         41432\n",
       "Name: type, dtype: int64"
      ]
     },
     "execution_count": 13,
     "metadata": {},
     "output_type": "execute_result"
    }
   ],
   "source": [
    "# checking the payment type of the transactions\n",
    "df[\"type\"].value_counts()"
   ]
  },
  {
   "cell_type": "code",
   "execution_count": 14,
   "id": "55c5958f",
   "metadata": {
    "execution": {
     "iopub.execute_input": "2022-04-03T17:19:23.639499Z",
     "iopub.status.busy": "2022-04-03T17:19:23.638774Z",
     "iopub.status.idle": "2022-04-03T17:19:31.818861Z",
     "shell.execute_reply": "2022-04-03T17:19:31.819365Z",
     "shell.execute_reply.started": "2022-04-03T17:17:46.494865Z"
    },
    "papermill": {
     "duration": 8.906757,
     "end_time": "2022-04-03T17:19:31.819557",
     "exception": false,
     "start_time": "2022-04-03T17:19:22.912800",
     "status": "completed"
    },
    "tags": []
   },
   "outputs": [
    {
     "data": {
      "text/plain": [
       "<AxesSubplot:xlabel='type', ylabel='count'>"
      ]
     },
     "execution_count": 14,
     "metadata": {},
     "output_type": "execute_result"
    },
    {
     "data": {
      "image/png": "[encoded data removed]",
      "text/plain": [
       "<Figure size 864x576 with 1 Axes>"
      ]
     },
     "metadata": {
      "needs_background": "light"
     },
     "output_type": "display_data"
    }
   ],
   "source": [
    "# counting the number of transactions per type\n",
    "plt.figure(figsize=(12,8))\n",
    "sns.countplot(x=\"type\", data=df,hue=\"isFraud\" , palette=\"Set2\")\n",
    "# we are enable to analyse the Fraud transactions \n",
    "# as we have non fraud transactions more than fraud transactions"
   ]
  },
  {
   "cell_type": "code",
   "execution_count": 15,
   "id": "16bd1d4a",
   "metadata": {
    "execution": {
     "iopub.execute_input": "2022-04-03T17:19:31.899998Z",
     "iopub.status.busy": "2022-04-03T17:19:31.899261Z",
     "iopub.status.idle": "2022-04-03T17:19:32.360835Z",
     "shell.execute_reply": "2022-04-03T17:19:32.360195Z",
     "shell.execute_reply.started": "2022-04-03T17:17:51.449720Z"
    },
    "papermill": {
     "duration": 0.502162,
     "end_time": "2022-04-03T17:19:32.360984",
     "exception": false,
     "start_time": "2022-04-03T17:19:31.858822",
     "status": "completed"
    },
    "tags": []
   },
   "outputs": [
    {
     "data": {
      "text/plain": [
       "Index(['step', 'type', 'amount', 'nameOrig', 'oldbalanceOrg', 'newbalanceOrig',\n",
       "       'nameDest', 'oldbalanceDest', 'newbalanceDest', 'isFraud',\n",
       "       'isFlaggedFraud'],\n",
       "      dtype='object')"
      ]
     },
     "execution_count": 15,
     "metadata": {},
     "output_type": "execute_result"
    }
   ],
   "source": [
    "# dropping the variables that are not needed\n",
    "# making a copy of the data\n",
    "df_copy = df.copy()\n",
    "df_copy.columns"
   ]
  },
  {
   "cell_type": "code",
   "execution_count": 16,
   "id": "827b4a13",
   "metadata": {
    "execution": {
     "iopub.execute_input": "2022-04-03T17:19:32.479283Z",
     "iopub.status.busy": "2022-04-03T17:19:32.476970Z",
     "iopub.status.idle": "2022-04-03T17:19:32.483794Z",
     "shell.execute_reply": "2022-04-03T17:19:32.483103Z",
     "shell.execute_reply.started": "2022-04-03T17:17:51.929752Z"
    },
    "papermill": {
     "duration": 0.085712,
     "end_time": "2022-04-03T17:19:32.483945",
     "exception": false,
     "start_time": "2022-04-03T17:19:32.398233",
     "status": "completed"
    },
    "tags": []
   },
   "outputs": [
    {
     "data": {
      "text/plain": [
       "19     51352\n",
       "18     49579\n",
       "187    49083\n",
       "235    47491\n",
       "307    46968\n",
       "Name: step, dtype: int64"
      ]
     },
     "execution_count": 16,
     "metadata": {},
     "output_type": "execute_result"
    }
   ],
   "source": [
    "# checking the step variable\n",
    "# About the step : maps a unit of time in the real world\n",
    "# In this case 1 step is 1 hour of time. Total steps 744 (30 days simulation).\n",
    "df[\"step\"].value_counts().sort_values(ascending=False).head()"
   ]
  },
  {
   "cell_type": "code",
   "execution_count": 17,
   "id": "f8e50b64",
   "metadata": {
    "execution": {
     "iopub.execute_input": "2022-04-03T17:19:32.662486Z",
     "iopub.status.busy": "2022-04-03T17:19:32.661735Z",
     "iopub.status.idle": "2022-04-03T17:19:32.902568Z",
     "shell.execute_reply": "2022-04-03T17:19:32.902039Z",
     "shell.execute_reply.started": "2022-04-03T17:17:51.976514Z"
    },
    "papermill": {
     "duration": 0.381292,
     "end_time": "2022-04-03T17:19:32.902732",
     "exception": false,
     "start_time": "2022-04-03T17:19:32.521440",
     "status": "completed"
    },
    "tags": []
   },
   "outputs": [
    {
     "data": {
      "text/plain": [
       "Index(['type', 'nameOrig', 'nameDest'], dtype='object')"
      ]
     },
     "execution_count": 17,
     "metadata": {},
     "output_type": "execute_result"
    }
   ],
   "source": [
    "# columns with object type\n",
    "df_copy.select_dtypes(include=[\"object\"]).columns"
   ]
  },
  {
   "cell_type": "code",
   "execution_count": 18,
   "id": "b738f9c2",
   "metadata": {
    "execution": {
     "iopub.execute_input": "2022-04-03T17:19:32.982821Z",
     "iopub.status.busy": "2022-04-03T17:19:32.982087Z",
     "iopub.status.idle": "2022-04-03T17:19:33.286299Z",
     "shell.execute_reply": "2022-04-03T17:19:33.286883Z",
     "shell.execute_reply.started": "2022-04-03T17:17:52.397423Z"
    },
    "papermill": {
     "duration": 0.345859,
     "end_time": "2022-04-03T17:19:33.287067",
     "exception": false,
     "start_time": "2022-04-03T17:19:32.941208",
     "status": "completed"
    },
    "tags": []
   },
   "outputs": [],
   "source": [
    "# droping NameOrig and NameDest\n",
    "df_copy.drop([\"nameOrig\", \"nameDest\"], axis=1, inplace=True)"
   ]
  },
  {
   "cell_type": "code",
   "execution_count": 19,
   "id": "75dad188",
   "metadata": {
    "execution": {
     "iopub.execute_input": "2022-04-03T17:19:33.373827Z",
     "iopub.status.busy": "2022-04-03T17:19:33.373124Z",
     "iopub.status.idle": "2022-04-03T17:19:33.380820Z",
     "shell.execute_reply": "2022-04-03T17:19:33.381318Z",
     "shell.execute_reply.started": "2022-04-03T17:17:52.722350Z"
    },
    "papermill": {
     "duration": 0.056371,
     "end_time": "2022-04-03T17:19:33.381499",
     "exception": false,
     "start_time": "2022-04-03T17:19:33.325128",
     "status": "completed"
    },
    "tags": []
   },
   "outputs": [
    {
     "data": {
      "text/html": [
       "<div>\n",
       "<style scoped>\n",
       "    .dataframe tbody tr th:only-of-type {\n",
       "        vertical-align: middle;\n",
       "    }\n",
       "\n",
       "    .dataframe tbody tr th {\n",
       "        vertical-align: top;\n",
       "    }\n",
       "\n",
       "    .dataframe thead th {\n",
       "        text-align: right;\n",
       "    }\n",
       "</style>\n",
       "<table border=\"1\" class=\"dataframe\">\n",
       "  <thead>\n",
       "    <tr style=\"text-align: right;\">\n",
       "      <th></th>\n",
       "      <th>step</th>\n",
       "      <th>type</th>\n",
       "      <th>amount</th>\n",
       "      <th>oldbalanceOrg</th>\n",
       "      <th>newbalanceOrig</th>\n",
       "      <th>oldbalanceDest</th>\n",
       "      <th>newbalanceDest</th>\n",
       "      <th>isFraud</th>\n",
       "      <th>isFlaggedFraud</th>\n",
       "    </tr>\n",
       "  </thead>\n",
       "  <tbody>\n",
       "    <tr>\n",
       "      <th>0</th>\n",
       "      <td>1</td>\n",
       "      <td>PAYMENT</td>\n",
       "      <td>9839.64</td>\n",
       "      <td>170136.0</td>\n",
       "      <td>160296.36</td>\n",
       "      <td>0.0</td>\n",
       "      <td>0.0</td>\n",
       "      <td>0</td>\n",
       "      <td>0</td>\n",
       "    </tr>\n",
       "    <tr>\n",
       "      <th>1</th>\n",
       "      <td>1</td>\n",
       "      <td>PAYMENT</td>\n",
       "      <td>1864.28</td>\n",
       "      <td>21249.0</td>\n",
       "      <td>19384.72</td>\n",
       "      <td>0.0</td>\n",
       "      <td>0.0</td>\n",
       "      <td>0</td>\n",
       "      <td>0</td>\n",
       "    </tr>\n",
       "    <tr>\n",
       "      <th>2</th>\n",
       "      <td>1</td>\n",
       "      <td>TRANSFER</td>\n",
       "      <td>181.00</td>\n",
       "      <td>181.0</td>\n",
       "      <td>0.00</td>\n",
       "      <td>0.0</td>\n",
       "      <td>0.0</td>\n",
       "      <td>1</td>\n",
       "      <td>0</td>\n",
       "    </tr>\n",
       "    <tr>\n",
       "      <th>3</th>\n",
       "      <td>1</td>\n",
       "      <td>CASH_OUT</td>\n",
       "      <td>181.00</td>\n",
       "      <td>181.0</td>\n",
       "      <td>0.00</td>\n",
       "      <td>21182.0</td>\n",
       "      <td>0.0</td>\n",
       "      <td>1</td>\n",
       "      <td>0</td>\n",
       "    </tr>\n",
       "    <tr>\n",
       "      <th>4</th>\n",
       "      <td>1</td>\n",
       "      <td>PAYMENT</td>\n",
       "      <td>11668.14</td>\n",
       "      <td>41554.0</td>\n",
       "      <td>29885.86</td>\n",
       "      <td>0.0</td>\n",
       "      <td>0.0</td>\n",
       "      <td>0</td>\n",
       "      <td>0</td>\n",
       "    </tr>\n",
       "  </tbody>\n",
       "</table>\n",
       "</div>"
      ],
      "text/plain": [
       "   step      type    amount  oldbalanceOrg  newbalanceOrig  oldbalanceDest  \\\n",
       "0     1   PAYMENT   9839.64       170136.0       160296.36             0.0   \n",
       "1     1   PAYMENT   1864.28        21249.0        19384.72             0.0   \n",
       "2     1  TRANSFER    181.00          181.0            0.00             0.0   \n",
       "3     1  CASH_OUT    181.00          181.0            0.00         21182.0   \n",
       "4     1   PAYMENT  11668.14        41554.0        29885.86             0.0   \n",
       "\n",
       "   newbalanceDest  isFraud  isFlaggedFraud  \n",
       "0             0.0        0               0  \n",
       "1             0.0        0               0  \n",
       "2             0.0        1               0  \n",
       "3             0.0        1               0  \n",
       "4             0.0        0               0  "
      ]
     },
     "execution_count": 19,
     "metadata": {},
     "output_type": "execute_result"
    }
   ],
   "source": [
    "df_copy.head()"
   ]
  },
  {
   "cell_type": "code",
   "execution_count": 20,
   "id": "37c122e4",
   "metadata": {
    "execution": {
     "iopub.execute_input": "2022-04-03T17:19:33.464112Z",
     "iopub.status.busy": "2022-04-03T17:19:33.463362Z",
     "iopub.status.idle": "2022-04-03T17:19:35.655938Z",
     "shell.execute_reply": "2022-04-03T17:19:35.654973Z",
     "shell.execute_reply.started": "2022-04-03T17:17:52.744585Z"
    },
    "papermill": {
     "duration": 2.233522,
     "end_time": "2022-04-03T17:19:35.656111",
     "exception": false,
     "start_time": "2022-04-03T17:19:33.422589",
     "status": "completed"
    },
    "tags": []
   },
   "outputs": [],
   "source": [
    "# Label Encoding the type variable\n",
    "from sklearn.preprocessing import LabelEncoder\n",
    "le = LabelEncoder()\n",
    "df_copy[\"type\"] = le.fit_transform(df_copy[\"type\"])"
   ]
  },
  {
   "cell_type": "code",
   "execution_count": 21,
   "id": "c6125bda",
   "metadata": {
    "execution": {
     "iopub.execute_input": "2022-04-03T17:19:35.753040Z",
     "iopub.status.busy": "2022-04-03T17:19:35.747685Z",
     "iopub.status.idle": "2022-04-03T17:19:35.755585Z",
     "shell.execute_reply": "2022-04-03T17:19:35.756122Z",
     "shell.execute_reply.started": "2022-04-03T17:17:54.221637Z"
    },
    "papermill": {
     "duration": 0.061023,
     "end_time": "2022-04-03T17:19:35.756364",
     "exception": false,
     "start_time": "2022-04-03T17:19:35.695341",
     "status": "completed"
    },
    "tags": []
   },
   "outputs": [
    {
     "data": {
      "text/html": [
       "<div>\n",
       "<style scoped>\n",
       "    .dataframe tbody tr th:only-of-type {\n",
       "        vertical-align: middle;\n",
       "    }\n",
       "\n",
       "    .dataframe tbody tr th {\n",
       "        vertical-align: top;\n",
       "    }\n",
       "\n",
       "    .dataframe thead th {\n",
       "        text-align: right;\n",
       "    }\n",
       "</style>\n",
       "<table border=\"1\" class=\"dataframe\">\n",
       "  <thead>\n",
       "    <tr style=\"text-align: right;\">\n",
       "      <th></th>\n",
       "      <th>step</th>\n",
       "      <th>type</th>\n",
       "      <th>amount</th>\n",
       "      <th>oldbalanceOrg</th>\n",
       "      <th>newbalanceOrig</th>\n",
       "      <th>oldbalanceDest</th>\n",
       "      <th>newbalanceDest</th>\n",
       "      <th>isFraud</th>\n",
       "      <th>isFlaggedFraud</th>\n",
       "    </tr>\n",
       "  </thead>\n",
       "  <tbody>\n",
       "    <tr>\n",
       "      <th>0</th>\n",
       "      <td>1</td>\n",
       "      <td>3</td>\n",
       "      <td>9839.64</td>\n",
       "      <td>170136.0</td>\n",
       "      <td>160296.36</td>\n",
       "      <td>0.0</td>\n",
       "      <td>0.0</td>\n",
       "      <td>0</td>\n",
       "      <td>0</td>\n",
       "    </tr>\n",
       "    <tr>\n",
       "      <th>1</th>\n",
       "      <td>1</td>\n",
       "      <td>3</td>\n",
       "      <td>1864.28</td>\n",
       "      <td>21249.0</td>\n",
       "      <td>19384.72</td>\n",
       "      <td>0.0</td>\n",
       "      <td>0.0</td>\n",
       "      <td>0</td>\n",
       "      <td>0</td>\n",
       "    </tr>\n",
       "    <tr>\n",
       "      <th>2</th>\n",
       "      <td>1</td>\n",
       "      <td>4</td>\n",
       "      <td>181.00</td>\n",
       "      <td>181.0</td>\n",
       "      <td>0.00</td>\n",
       "      <td>0.0</td>\n",
       "      <td>0.0</td>\n",
       "      <td>1</td>\n",
       "      <td>0</td>\n",
       "    </tr>\n",
       "    <tr>\n",
       "      <th>3</th>\n",
       "      <td>1</td>\n",
       "      <td>1</td>\n",
       "      <td>181.00</td>\n",
       "      <td>181.0</td>\n",
       "      <td>0.00</td>\n",
       "      <td>21182.0</td>\n",
       "      <td>0.0</td>\n",
       "      <td>1</td>\n",
       "      <td>0</td>\n",
       "    </tr>\n",
       "    <tr>\n",
       "      <th>4</th>\n",
       "      <td>1</td>\n",
       "      <td>3</td>\n",
       "      <td>11668.14</td>\n",
       "      <td>41554.0</td>\n",
       "      <td>29885.86</td>\n",
       "      <td>0.0</td>\n",
       "      <td>0.0</td>\n",
       "      <td>0</td>\n",
       "      <td>0</td>\n",
       "    </tr>\n",
       "  </tbody>\n",
       "</table>\n",
       "</div>"
      ],
      "text/plain": [
       "   step  type    amount  oldbalanceOrg  newbalanceOrig  oldbalanceDest  \\\n",
       "0     1     3   9839.64       170136.0       160296.36             0.0   \n",
       "1     1     3   1864.28        21249.0        19384.72             0.0   \n",
       "2     1     4    181.00          181.0            0.00             0.0   \n",
       "3     1     1    181.00          181.0            0.00         21182.0   \n",
       "4     1     3  11668.14        41554.0        29885.86             0.0   \n",
       "\n",
       "   newbalanceDest  isFraud  isFlaggedFraud  \n",
       "0             0.0        0               0  \n",
       "1             0.0        0               0  \n",
       "2             0.0        1               0  \n",
       "3             0.0        1               0  \n",
       "4             0.0        0               0  "
      ]
     },
     "execution_count": 21,
     "metadata": {},
     "output_type": "execute_result"
    }
   ],
   "source": [
    "df_copy.head()"
   ]
  },
  {
   "cell_type": "code",
   "execution_count": 22,
   "id": "ee0777da",
   "metadata": {
    "execution": {
     "iopub.execute_input": "2022-04-03T17:19:35.840532Z",
     "iopub.status.busy": "2022-04-03T17:19:35.839819Z",
     "iopub.status.idle": "2022-04-03T17:19:36.167608Z",
     "shell.execute_reply": "2022-04-03T17:19:36.166956Z",
     "shell.execute_reply.started": "2022-04-03T17:17:54.240502Z"
    },
    "papermill": {
     "duration": 0.371707,
     "end_time": "2022-04-03T17:19:36.167780",
     "exception": false,
     "start_time": "2022-04-03T17:19:35.796073",
     "status": "completed"
    },
    "tags": []
   },
   "outputs": [],
   "source": [
    "# dropping the isFlaggedFraud variable as we dont need it\n",
    "df_copy.drop([\"isFlaggedFraud\"], axis=1, inplace=True)"
   ]
  },
  {
   "cell_type": "code",
   "execution_count": 23,
   "id": "67439c77",
   "metadata": {
    "execution": {
     "iopub.execute_input": "2022-04-03T17:19:36.257986Z",
     "iopub.status.busy": "2022-04-03T17:19:36.257261Z",
     "iopub.status.idle": "2022-04-03T17:19:36.263784Z",
     "shell.execute_reply": "2022-04-03T17:19:36.264380Z",
     "shell.execute_reply.started": "2022-04-03T17:17:54.562463Z"
    },
    "papermill": {
     "duration": 0.057282,
     "end_time": "2022-04-03T17:19:36.264549",
     "exception": false,
     "start_time": "2022-04-03T17:19:36.207267",
     "status": "completed"
    },
    "tags": []
   },
   "outputs": [
    {
     "data": {
      "text/html": [
       "<div>\n",
       "<style scoped>\n",
       "    .dataframe tbody tr th:only-of-type {\n",
       "        vertical-align: middle;\n",
       "    }\n",
       "\n",
       "    .dataframe tbody tr th {\n",
       "        vertical-align: top;\n",
       "    }\n",
       "\n",
       "    .dataframe thead th {\n",
       "        text-align: right;\n",
       "    }\n",
       "</style>\n",
       "<table border=\"1\" class=\"dataframe\">\n",
       "  <thead>\n",
       "    <tr style=\"text-align: right;\">\n",
       "      <th></th>\n",
       "      <th>step</th>\n",
       "      <th>type</th>\n",
       "      <th>amount</th>\n",
       "      <th>oldbalanceOrg</th>\n",
       "      <th>newbalanceOrig</th>\n",
       "      <th>oldbalanceDest</th>\n",
       "      <th>newbalanceDest</th>\n",
       "      <th>isFraud</th>\n",
       "    </tr>\n",
       "  </thead>\n",
       "  <tbody>\n",
       "    <tr>\n",
       "      <th>0</th>\n",
       "      <td>1</td>\n",
       "      <td>3</td>\n",
       "      <td>9839.64</td>\n",
       "      <td>170136.0</td>\n",
       "      <td>160296.36</td>\n",
       "      <td>0.0</td>\n",
       "      <td>0.0</td>\n",
       "      <td>0</td>\n",
       "    </tr>\n",
       "    <tr>\n",
       "      <th>1</th>\n",
       "      <td>1</td>\n",
       "      <td>3</td>\n",
       "      <td>1864.28</td>\n",
       "      <td>21249.0</td>\n",
       "      <td>19384.72</td>\n",
       "      <td>0.0</td>\n",
       "      <td>0.0</td>\n",
       "      <td>0</td>\n",
       "    </tr>\n",
       "    <tr>\n",
       "      <th>2</th>\n",
       "      <td>1</td>\n",
       "      <td>4</td>\n",
       "      <td>181.00</td>\n",
       "      <td>181.0</td>\n",
       "      <td>0.00</td>\n",
       "      <td>0.0</td>\n",
       "      <td>0.0</td>\n",
       "      <td>1</td>\n",
       "    </tr>\n",
       "    <tr>\n",
       "      <th>3</th>\n",
       "      <td>1</td>\n",
       "      <td>1</td>\n",
       "      <td>181.00</td>\n",
       "      <td>181.0</td>\n",
       "      <td>0.00</td>\n",
       "      <td>21182.0</td>\n",
       "      <td>0.0</td>\n",
       "      <td>1</td>\n",
       "    </tr>\n",
       "    <tr>\n",
       "      <th>4</th>\n",
       "      <td>1</td>\n",
       "      <td>3</td>\n",
       "      <td>11668.14</td>\n",
       "      <td>41554.0</td>\n",
       "      <td>29885.86</td>\n",
       "      <td>0.0</td>\n",
       "      <td>0.0</td>\n",
       "      <td>0</td>\n",
       "    </tr>\n",
       "  </tbody>\n",
       "</table>\n",
       "</div>"
      ],
      "text/plain": [
       "   step  type    amount  oldbalanceOrg  newbalanceOrig  oldbalanceDest  \\\n",
       "0     1     3   9839.64       170136.0       160296.36             0.0   \n",
       "1     1     3   1864.28        21249.0        19384.72             0.0   \n",
       "2     1     4    181.00          181.0            0.00             0.0   \n",
       "3     1     1    181.00          181.0            0.00         21182.0   \n",
       "4     1     3  11668.14        41554.0        29885.86             0.0   \n",
       "\n",
       "   newbalanceDest  isFraud  \n",
       "0             0.0        0  \n",
       "1             0.0        0  \n",
       "2             0.0        1  \n",
       "3             0.0        1  \n",
       "4             0.0        0  "
      ]
     },
     "execution_count": 23,
     "metadata": {},
     "output_type": "execute_result"
    }
   ],
   "source": [
    "df_copy.head()"
   ]
  },
  {
   "cell_type": "code",
   "execution_count": 24,
   "id": "fca4d8bf",
   "metadata": {
    "execution": {
     "iopub.execute_input": "2022-04-03T17:19:36.349073Z",
     "iopub.status.busy": "2022-04-03T17:19:36.348377Z",
     "iopub.status.idle": "2022-04-03T17:19:38.029086Z",
     "shell.execute_reply": "2022-04-03T17:19:38.028513Z",
     "shell.execute_reply.started": "2022-04-03T17:17:54.578206Z"
    },
    "papermill": {
     "duration": 1.725471,
     "end_time": "2022-04-03T17:19:38.029244",
     "exception": false,
     "start_time": "2022-04-03T17:19:36.303773",
     "status": "completed"
    },
    "tags": []
   },
   "outputs": [],
   "source": [
    "# choosing a model to use\n",
    "# we will use Logistic Regression as we have unbalanced dataset\n",
    "# First we need to create a training and test set\n",
    "from sklearn.model_selection import train_test_split\n",
    "X = df_copy.drop(\"isFraud\",axis=1).values\n",
    "y = df_copy[\"isFraud\"].values\n",
    "X_train,X_test,y_train,y_test = train_test_split(X,y,test_size=0.2,random_state=42)"
   ]
  },
  {
   "cell_type": "code",
   "execution_count": 25,
   "id": "ef413f35",
   "metadata": {
    "execution": {
     "iopub.execute_input": "2022-04-03T17:19:38.116305Z",
     "iopub.status.busy": "2022-04-03T17:19:38.115509Z",
     "iopub.status.idle": "2022-04-03T17:19:39.206354Z",
     "shell.execute_reply": "2022-04-03T17:19:39.205708Z",
     "shell.execute_reply.started": "2022-04-03T17:17:56.186021Z"
    },
    "papermill": {
     "duration": 1.135491,
     "end_time": "2022-04-03T17:19:39.206518",
     "exception": false,
     "start_time": "2022-04-03T17:19:38.071027",
     "status": "completed"
    },
    "tags": []
   },
   "outputs": [],
   "source": [
    "# we need to feature scale the data\n",
    "from sklearn.preprocessing import StandardScaler\n",
    "sc = StandardScaler()\n",
    "X_train  = sc.fit_transform(X_train)\n",
    "X_test = sc.transform(X_test)"
   ]
  },
  {
   "cell_type": "code",
   "execution_count": 31,
   "id": "c811d4d6",
   "metadata": {
    "execution": {
     "iopub.execute_input": "2022-04-03T17:19:39.292875Z",
     "iopub.status.busy": "2022-04-03T17:19:39.292158Z",
     "iopub.status.idle": "2022-04-03T17:19:59.243475Z",
     "shell.execute_reply": "2022-04-03T17:19:59.244354Z",
     "shell.execute_reply.started": "2022-04-03T17:17:57.222021Z"
    },
    "papermill": {
     "duration": 19.99732,
     "end_time": "2022-04-03T17:19:59.244678",
     "exception": false,
     "start_time": "2022-04-03T17:19:39.247358",
     "status": "completed"
    },
    "tags": []
   },
   "outputs": [],
   "source": [
    "# Logistic Regression\n",
    "from sklearn.linear_model import LogisticRegression\n",
    "log_reg = LogisticRegression(penalty='l2', C=1000)\n",
    "log_reg.fit(X_train,y_train)\n",
    "pred_test = log_reg.predict(X_test)\n",
    "pred_train = log_reg.predict(X_train)"
   ]
  },
  {
   "cell_type": "code",
   "execution_count": 32,
   "id": "d3f96b02",
   "metadata": {},
   "outputs": [
    {
     "name": "stdout",
     "output_type": "stream",
     "text": [
      "Score Report of the imbalanced data (with hyperparameter pruning)\n",
      "\n",
      "Accuracy score: \n",
      "Training: 1.00\n",
      "Testing: 1.00 \n",
      "\n",
      "Precision score: \n",
      "Training: 0.90\n",
      "Testing: 0.91 \n",
      "\n",
      "Recall score: \n",
      "Training: 0.48\n",
      "Testing: 0.48 \n",
      "\n",
      "F1 score: \n",
      "Training: 0.63\n",
      "Testing: 0.63\n"
     ]
    }
   ],
   "source": [
    "from sklearn.metrics import accuracy_score, f1_score, precision_score, recall_score\n",
    "\n",
    "print ('Score Report of the imbalanced data (with hyperparameter pruning)\\n')\n",
    "\n",
    "print ('Accuracy score: ')\n",
    "print ('Training: %.2f' % accuracy_score(y_train, pred_train))\n",
    "print ('Testing: %.2f \\n' % accuracy_score(y_test, pred_test))\n",
    "\n",
    "print ('Precision score: ')\n",
    "print ('Training: %.2f' % precision_score(y_train, pred_train))\n",
    "print ('Testing: %.2f \\n' % precision_score(y_test, pred_test))\n",
    "\n",
    "print ('Recall score: ')\n",
    "print ('Training: %.2f' % recall_score(y_train, pred_train))\n",
    "print ('Testing: %.2f \\n' % recall_score(y_test, pred_test))\n",
    "\n",
    "print ('F1 score: ')\n",
    "print ('Training: %.2f' % f1_score(y_train, pred_train))\n",
    "print ('Testing: %.2f' % f1_score(y_test, pred_test))"
   ]
  },
  {
   "cell_type": "code",
   "execution_count": 30,
   "id": "4aed8056",
   "metadata": {
    "execution": {
     "iopub.execute_input": "2022-04-03T17:19:59.375050Z",
     "iopub.status.busy": "2022-04-03T17:19:59.373866Z",
     "iopub.status.idle": "2022-04-03T17:20:01.399670Z",
     "shell.execute_reply": "2022-04-03T17:20:01.399094Z",
     "shell.execute_reply.started": "2022-04-03T17:18:16.887671Z"
    },
    "papermill": {
     "duration": 2.080167,
     "end_time": "2022-04-03T17:20:01.399840",
     "exception": false,
     "start_time": "2022-04-03T17:19:59.319673",
     "status": "completed"
    },
    "tags": []
   },
   "outputs": [
    {
     "name": "stdout",
     "output_type": "stream",
     "text": [
      "[[1270829      75]\n",
      " [    943     677]]\n",
      "              precision    recall  f1-score   support\n",
      "\n",
      "           0       1.00      1.00      1.00   1270904\n",
      "           1       0.90      0.42      0.57      1620\n",
      "\n",
      "    accuracy                           1.00   1272524\n",
      "   macro avg       0.95      0.71      0.79   1272524\n",
      "weighted avg       1.00      1.00      1.00   1272524\n",
      "\n"
     ]
    }
   ],
   "source": [
    "# checking the accuracy of the model\n",
    "from sklearn.metrics import confusion_matrix,classification_report\n",
    "print(confusion_matrix(y_test,pred_test))\n",
    "print(classification_report(y_test,pred_test))"
   ]
  },
  {
   "cell_type": "code",
   "execution_count": null,
   "id": "7188a14a",
   "metadata": {
    "papermill": {
     "duration": 0.039881,
     "end_time": "2022-04-03T17:20:01.480108",
     "exception": false,
     "start_time": "2022-04-03T17:20:01.440227",
     "status": "completed"
    },
    "tags": []
   },
   "outputs": [],
   "source": []
  }
 ],
 "metadata": {
  "kernelspec": {
   "display_name": "Python 3 (ipykernel)",
   "language": "python",
   "name": "python3"
  },
  "language_info": {
   "codemirror_mode": {
    "name": "ipython",
    "version": 3
   },
   "file_extension": ".py",
   "mimetype": "text/x-python",
   "name": "python",
   "nbconvert_exporter": "python",
   "pygments_lexer": "ipython3",
   "version": "3.9.7"
  },
  "papermill": {
   "default_parameters": {},
   "duration": 82.705376,
   "end_time": "2022-04-03T17:20:02.834716",
   "environment_variables": {},
   "exception": null,
   "input_path": "__notebook__.ipynb",
   "output_path": "__notebook__.ipynb",
   "parameters": {},
   "start_time": "2022-04-03T17:18:40.129340",
   "version": "2.3.3"
  },
  "vscode": {
   "interpreter": {
    "hash": "c30498f98b75d3fddd44b1435338c8ed399801b66603235065f0346b18b984e9"
   }
  }
 },
 "nbformat": 4,
 "nbformat_minor": 5
}
